{
 "cells": [
  {
   "cell_type": "code",
   "execution_count": 1,
   "metadata": {},
   "outputs": [],
   "source": [
    "# model and training function"
   ]
  },
  {
   "cell_type": "code",
   "execution_count": 18,
   "metadata": {},
   "outputs": [
    {
     "name": "stdout",
     "output_type": "stream",
     "text": [
      "done\n"
     ]
    }
   ],
   "source": [
    "%run Featurize_Input.ipynb"
   ]
  },
  {
   "cell_type": "code",
   "execution_count": 26,
   "metadata": {},
   "outputs": [],
   "source": [
    "import torch\n",
    "import torch.nn as nn\n",
    "import torch.nn.functional as F\n",
    "from dgl.nn.pytorch import NNConv\n",
    "from rdkit import Chem\n",
    "from tqdm.notebook import tqdm"
   ]
  },
  {
   "cell_type": "code",
   "execution_count": 55,
   "metadata": {},
   "outputs": [],
   "source": [
    "class Model(nn.Module):\n",
    "    def __init__(self, hidden_feat_size, out_feat_size, activ):\n",
    "        super(Model, self).__init__()\n",
    "        self.hidden_layer = hidden_feat_size \n",
    "        self.layer1 = NNConv(\n",
    "            in_feats = hidden_feat_size,\n",
    "            out_feats = out_feat_size,\n",
    "            edge_func = activ,\n",
    "            aggregator_type = 'sum'\n",
    "        )\n",
    "        '''self.layer2 = torch.nn.Sequential(\n",
    "            nn.Linear(hidden_feat_size, hidden_feat_size),\n",
    "            nn.Dropout(p=0.5),\n",
    "            nn.ReLU(),\n",
    "            nn.Linear(hidden_feat_size, out_feat_size)\n",
    "        )'''\n",
    "        \n",
    "    def forward(self, x, nodes, edges):\n",
    "        #g = nn.Linear(len(x), self.hidden_layer)\n",
    "        nnconv = self.layer1(x, nodes, edges)\n",
    "        #seq = self.layer2(g)\n",
    "        return nnconv"
   ]
  },
  {
   "cell_type": "code",
   "execution_count": 74,
   "metadata": {},
   "outputs": [],
   "source": [
    "lin = nn.Linear(100, 100)\n",
    "def edge_func(efeat):\n",
    "    return lin(efeat)\n",
    "model = Model(100, 20, edge_func)"
   ]
  },
  {
   "cell_type": "code",
   "execution_count": 75,
   "metadata": {},
   "outputs": [],
   "source": [
    "def train(epochs):\n",
    "    optimizer = torch.optim.Adam(model.parameters(),lr=0.001)\n",
    "    # dataloader\n",
    "    for epoch in tqdm(range(epochs)):\n",
    "        # TRAIN \n",
    "        model.train()\n",
    "        running_loss = 0.\n",
    "        \n",
    "        for batch_x, batch_y in graphdataloader:\n",
    "            optimizer.zero_grad()\n",
    "            atoms = batch_x.ndata['atomic']\n",
    "            edges = batch_x.edata['type']\n",
    "            y_pred = model(batch_x, atoms, edges)\n",
    "            mse = ((y_pred.reshape(1,-1) - batch_y)**2).sum()\n",
    "            running += mse.item()\n",
    "            mse.backward()\n",
    "            optimizer.step()\n",
    "            \n",
    "        running_loss /= len(train_dataset)\n",
    "            \n",
    "        # EVAL\n",
    "        model.eval()\n",
    "        val_score = 0.\n",
    "\n",
    "        for batch_x_val, batch_y_val in val_dataloader:\n",
    "            optimizer.zero_grad()\n",
    "            atoms = batch_x.ndata['atomic']\n",
    "            edges = batch_x.edata['type']\n",
    "            y_pred = model(batch_x, atoms, edges)\n",
    "            mse = ((y_pred.reshape(-1) - batch_y_val)**2).sum()\n",
    "            val_score += mse.item()\n",
    "            mse.backward()\n",
    "            optimizer.step()\n",
    "\n",
    "        val_score /= len(val_dataset)\n",
    "\n",
    "        if not best_score:\n",
    "            best_score = val_score\n",
    "            torch.save(model, 'best-model.pt') \n",
    "        if val_score < best_score:\n",
    "            best_score = val_score\n",
    "            torch.save(model, 'best-model.pt')\n",
    "    print(\"Train loss: \", running_loss, \"Validation loss: \", val_score, \"Best Validation loss: \", best_score)"
   ]
  },
  {
   "cell_type": "raw",
   "metadata": {},
   "source": [
    "train(100)"
   ]
  },
  {
   "cell_type": "code",
   "execution_count": null,
   "metadata": {},
   "outputs": [],
   "source": []
  }
 ],
 "metadata": {
  "kernelspec": {
   "display_name": "Python 3",
   "language": "python",
   "name": "python3"
  },
  "language_info": {
   "codemirror_mode": {
    "name": "ipython",
    "version": 3
   },
   "file_extension": ".py",
   "mimetype": "text/x-python",
   "name": "python",
   "nbconvert_exporter": "python",
   "pygments_lexer": "ipython3",
   "version": "3.8.6"
  }
 },
 "nbformat": 4,
 "nbformat_minor": 4
}
