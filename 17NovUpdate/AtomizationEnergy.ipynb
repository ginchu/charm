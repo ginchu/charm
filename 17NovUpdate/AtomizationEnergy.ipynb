{
 "cells": [
  {
   "cell_type": "code",
   "execution_count": 6,
   "id": "inclusive-independence",
   "metadata": {},
   "outputs": [],
   "source": [
    "from rdkit import Chem\n",
    "from rdkit.Chem import AllChem\n",
    "from ase.calculators.mopac import MOPAC\n",
    "from ase.io import read\n",
    "import pandas as pd\n",
    "import numpy as np\n",
    "import time\n",
    "from ase import Atoms\n",
    "import json\n",
    "import pickle"
   ]
  },
  {
   "cell_type": "code",
   "execution_count": 2,
   "id": "streaming-compact",
   "metadata": {},
   "outputs": [],
   "source": [
    "import mordred\n",
    "from mordred import Calculator, descriptors\n",
    "from rdkit.Chem import rdMolDescriptors"
   ]
  },
  {
   "cell_type": "code",
   "execution_count": 108,
   "id": "dressed-world",
   "metadata": {},
   "outputs": [],
   "source": [
    "# load periodic table json file\n",
    "a=json.load(open(\"portable.json\"))\n",
    "\n",
    "dataset = pd.read_csv('../../Data/Energy/EnergyDataset-H.csv')\n",
    "mol_energy = dataset.columns[2]\n",
    "energy_list = np.array(dataset[mol_energy])\n",
    "\n",
    "smiles = dataset.columns[1]\n",
    "smiles_list = np.array(dataset[smiles])\n"
   ]
  },
  {
   "cell_type": "code",
   "execution_count": 4,
   "id": "casual-munich",
   "metadata": {},
   "outputs": [
    {
     "name": "stdout",
     "output_type": "stream",
     "text": [
      "{1: -11.07011, 2: -54.09664, 3: -4.80412, 4: -25.26494, 5: -50.84441, 6: -115.15732, 7: -177.85963, 8: -289.97952, 9: -462.69609, 10: -272.22972, 11: -5.81548, 12: -18.66074, 13: -62.20211, 14: -96.94941, 15: -170.60826, 16: -173.44087, 17: -265.24998, 18: -264.22578, 19: -4.88807, 20: -19.09281, 21: -37.25729, 22: -73.75413, 23: -119.28588, 24: -260.39534, 25: -226.56671, 26: -390.66498, 27: -398.01083, 28: -375.58231, 29: -673.16583, 30: -26.97859, 31: -57.28036, 32: -84.20003, 33: -123.88732, 34: -156.69076, 35: -221.41628, 36: -259.00171, 37: -4.12096, 38: -14.89116, 39: -34.67746, 40: -52.67139, 41: -127.57961, 42: -187.81216, 43: -204.71501, 44: -214.02948, 45: -396.89494, 46: -520.81164, 47: -541.67938, 48: -27.35116, 49: -53.1579, 50: -86.40474, 51: -118.62499, 52: -255.21535, 53: -222.90791, 54: -364.51658, 55: -3.99631}\n"
     ]
    }
   ],
   "source": [
    "# load periodic table json file\n",
    "a=json.load(open(\"perotable.json\"))\n",
    "\n",
    "# create dictionary of elements...key: atomic number, value: atomic symbol\n",
    "table=a['elements']\n",
    "elemnt_table={}\n",
    "# first 40 elements (not likely to find metals, etc), can change if wanted\n",
    "for i in table[:55]:\n",
    "    elemnt_table.update({i['number']:i['symbol']})\n",
    "# create a dictionary of energies per atom...key: atomic number, value: energy via PM7/MOPAC\n",
    "energy_dict={}\n",
    "for i,symbol in elemnt_table.items():\n",
    "    \n",
    "        #create ASE atoms object\n",
    "        #set position to axis\n",
    "        mol = Atoms(symbol, positions=[(0, 0, 0)])\n",
    "        \n",
    "        #calculate \n",
    "        mol.calc = MOPAC(label=f'atomic_energy{symbol}', task = 'UHF')\n",
    "\n",
    "        #get potential energy\n",
    "        pse = mol.get_potential_energy()\n",
    "\n",
    "        energy_dict.update ({i:pse})\n",
    "print(energy_dict)"
   ]
  },
  {
   "cell_type": "code",
   "execution_count": 7,
   "id": "distinguished-distributor",
   "metadata": {},
   "outputs": [],
   "source": [
    "with open('energy_dict.pickle', 'wb') as handle:\n",
    "    pickle.dump(energy_dict, handle, protocol=pickle.HIGHEST_PROTOCOL)"
   ]
  },
  {
   "cell_type": "code",
   "execution_count": 8,
   "id": "divine-daniel",
   "metadata": {},
   "outputs": [],
   "source": [
    "with open('energy_dict.pickle', 'rb') as handle:\n",
    "    b = pickle.load(handle)"
   ]
  },
  {
   "cell_type": "code",
   "execution_count": 67,
   "id": "crucial-budapest",
   "metadata": {},
   "outputs": [],
   "source": [
    "# f = lambda x: x.GetAtomicNum()\n",
    "f = lambda x: x.GetAtomicNum()"
   ]
  },
  {
   "cell_type": "code",
   "execution_count": 58,
   "id": "available-scottish",
   "metadata": {},
   "outputs": [],
   "source": [
    "def atoms_to_energy(rdkit_atoms,energy_dict):\n",
    "    sum_e=0\n",
    "    atoms = rdkit_atoms.GetAtoms()\n",
    "    for i in atoms:\n",
    "        sum_e += energy_dict[f(i)]\n",
    "    return sum_e"
   ]
  },
  {
   "cell_type": "code",
   "execution_count": 59,
   "id": "horizontal-shore",
   "metadata": {},
   "outputs": [],
   "source": [
    "def get_diss_energy(smiles,energy_dict):\n",
    "    \"\"\"\n",
    "    return Dissociate energy, ground state energy, atomic energy [float:float,float]\n",
    "    \"\"\"\n",
    "    mol = Chem.MolFromSmiles(smiles)\n",
    "    mol = Chem.AddHs(mol)\n",
    "    # how do you get atoms\n",
    "    sum_e=atoms_to_energy(mol,energy_dict)\n",
    "\n",
    "    return sum_e"
   ]
  },
  {
   "cell_type": "code",
   "execution_count": 109,
   "id": "designing-estonia",
   "metadata": {},
   "outputs": [
    {
     "data": {
      "text/plain": [
       "4609"
      ]
     },
     "execution_count": 109,
     "metadata": {},
     "output_type": "execute_result"
    }
   ],
   "source": [
    "len(smiles_list)"
   ]
  },
  {
   "cell_type": "code",
   "execution_count": 110,
   "id": "refined-paintball",
   "metadata": {},
   "outputs": [],
   "source": [
    "change_list = []\n",
    "failures = []"
   ]
  },
  {
   "cell_type": "code",
   "execution_count": 111,
   "id": "negative-producer",
   "metadata": {},
   "outputs": [],
   "source": [
    "def generate_all_changes():\n",
    "    for i, smiles in enumerate (smiles_list):\n",
    "        try:\n",
    "            ind_energy = get_diss_energy(smiles, energy_dict)\n",
    "            change = energy_list[i] - ind_energy\n",
    "            change_list.append(change)\n",
    "        except:\n",
    "            failures.append(smiles)\n",
    "            continue"
   ]
  },
  {
   "cell_type": "code",
   "execution_count": 112,
   "id": "suitable-stand",
   "metadata": {},
   "outputs": [],
   "source": [
    "generate_all_changes()"
   ]
  },
  {
   "cell_type": "code",
   "execution_count": 113,
   "id": "liquid-straight",
   "metadata": {},
   "outputs": [
    {
     "data": {
      "text/plain": [
       "4"
      ]
     },
     "execution_count": 113,
     "metadata": {},
     "output_type": "execute_result"
    }
   ],
   "source": [
    "len(failures)"
   ]
  },
  {
   "cell_type": "code",
   "execution_count": 114,
   "id": "attended-hotel",
   "metadata": {},
   "outputs": [],
   "source": [
    "id_to_remove = []\n",
    "for i, smile in enumerate (smiles_list):\n",
    "    if smile in failures:\n",
    "        id_to_remove.append(i)\n",
    "\n",
    "new_smiles_list = np.delete(smiles_list, id_to_remove) "
   ]
  },
  {
   "cell_type": "code",
   "execution_count": 115,
   "id": "silver-cincinnati",
   "metadata": {},
   "outputs": [
    {
     "name": "stdout",
     "output_type": "stream",
     "text": [
      "4605\n",
      "4605\n"
     ]
    }
   ],
   "source": [
    "print(len(change_list))\n",
    "print(len(new_smiles_list))"
   ]
  },
  {
   "cell_type": "code",
   "execution_count": 116,
   "id": "reserved-kelly",
   "metadata": {},
   "outputs": [
    {
     "name": "stdout",
     "output_type": "stream",
     "text": [
      "shape:  (4605, 2)\n"
     ]
    }
   ],
   "source": [
    "# convert to dataframe\n",
    "descriptor_data = { 'Smiles': new_smiles_list, 'Change-Energy':change_list}\n",
    "df = pd.DataFrame(data = descriptor_data)\n",
    "df.to_csv('../../Data/Energy/ChangeDataset-B.csv')\n",
    "print ('shape: ', df.shape)"
   ]
  },
  {
   "cell_type": "code",
   "execution_count": null,
   "id": "moral-clinton",
   "metadata": {},
   "outputs": [],
   "source": []
  }
 ],
 "metadata": {
  "kernelspec": {
   "display_name": "Python 3",
   "language": "python",
   "name": "python3"
  },
  "language_info": {
   "codemirror_mode": {
    "name": "ipython",
    "version": 3
   },
   "file_extension": ".py",
   "mimetype": "text/x-python",
   "name": "python",
   "nbconvert_exporter": "python",
   "pygments_lexer": "ipython3",
   "version": "3.8.6"
  }
 },
 "nbformat": 4,
 "nbformat_minor": 5
}
