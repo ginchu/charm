{
 "cells": [
  {
   "cell_type": "code",
   "execution_count": 2,
   "id": "banner-joint",
   "metadata": {},
   "outputs": [],
   "source": [
    "import pandas as pd\n",
    "import seaborn as sns\n",
    "import matplotlib.pyplot as plt\n",
    "from rdkit import Chem\n",
    "import numpy as np\n",
    "from rdkit.Chem import AllChem\n",
    "import mordred\n",
    "from mordred import Calculator, descriptors\n",
    "from sklearn.model_selection import train_test_split\n",
    "from sklearn.linear_model import LinearRegression"
   ]
  },
  {
   "cell_type": "code",
   "execution_count": 3,
   "id": "ethical-elephant",
   "metadata": {},
   "outputs": [],
   "source": [
    "def smiles_to_mol(smiles):\n",
    "    return Chem.MolFromSmiles(smiles)"
   ]
  },
  {
   "cell_type": "code",
   "execution_count": 4,
   "id": "mighty-driver",
   "metadata": {},
   "outputs": [],
   "source": [
    "def featurize(dataset,features):\n",
    "    df = pd.read_csv(dataset)\n",
    "    y_test = np.array(df['Change-Energy'])\n",
    "    calc = mordred.Calculator()\n",
    "    calc.register(features)\n",
    "    df = df['Smiles'].apply(smiles_to_mol)\n",
    "    X_test = np.array(calc.pandas(df))\n",
    "    return X_test, y_test"
   ]
  },
  {
   "cell_type": "code",
   "execution_count": 5,
   "id": "stopped-equity",
   "metadata": {},
   "outputs": [],
   "source": [
    "features = [mordred.BondCount.BondCount(\"single\", False), mordred.BondCount.BondCount(\"double\", False), mordred.BondCount.BondCount(\"triple\", False)]"
   ]
  },
  {
   "cell_type": "code",
   "execution_count": 6,
   "id": "indonesian-lawsuit",
   "metadata": {},
   "outputs": [],
   "source": [
    "def concatenate():\n",
    "    data_name = ['B', 'C', 'D', 'H']\n",
    "    df_list = []\n",
    "    \n",
    "    #load data\n",
    "    for name in data_name: \n",
    "        df_list.append(pd.read_csv('../../Data/Energy/ChangeDataset-'+ name +'.csv'))\n",
    "        \n",
    "    #concatenate all datasets\n",
    "    training_data =  pd.concat(df_list, axis=0, ignore_index=True)\n",
    "    training_data.to_csv('../../Data/Energy/ChangeDataset-HW8.csv')"
   ]
  },
  {
   "cell_type": "code",
   "execution_count": 7,
   "id": "loaded-diesel",
   "metadata": {},
   "outputs": [],
   "source": [
    "#concatenate()"
   ]
  },
  {
   "cell_type": "code",
   "execution_count": 8,
   "id": "cathedral-squad",
   "metadata": {},
   "outputs": [
    {
     "name": "stderr",
     "output_type": "stream",
     "text": [
      "100%|██████████| 9573/9573 [02:24<00:00, 66.41it/s] \n"
     ]
    }
   ],
   "source": [
    "X, y = featurize('../../Data/Energy/FinalChangeDataset.csv',features)"
   ]
  },
  {
   "cell_type": "code",
   "execution_count": 9,
   "id": "broadband-police",
   "metadata": {},
   "outputs": [
    {
     "name": "stdout",
     "output_type": "stream",
     "text": [
      "shape:  (9573, 4)\n"
     ]
    }
   ],
   "source": [
    "# convert to dataframe\n",
    "sBondCount = X[:,0]\n",
    "dBondCount = X[:,1]\n",
    "tBondCount = X[:,2]\n",
    "descriptor_data = { 'sBondCount': sBondCount, 'dBondCount': dBondCount, 'tBondCount': tBondCount, 'Energy': y}\n",
    "df = pd.DataFrame(data = descriptor_data)\n",
    "df.to_csv('../../Data/Energy/FeaturizedDataset-HW8.csv')\n",
    "print ('shape: ', df.shape)"
   ]
  },
  {
   "cell_type": "code",
   "execution_count": 10,
   "id": "considered-phrase",
   "metadata": {},
   "outputs": [
    {
     "data": {
      "text/plain": [
       "9573"
      ]
     },
     "execution_count": 10,
     "metadata": {},
     "output_type": "execute_result"
    }
   ],
   "source": [
    "len(pd.read_csv('../../Data/Energy/FinalChangeDataset.csv'))"
   ]
  },
  {
   "cell_type": "code",
   "execution_count": null,
   "id": "special-object",
   "metadata": {},
   "outputs": [],
   "source": []
  }
 ],
 "metadata": {
  "kernelspec": {
   "display_name": "Python 3",
   "language": "python",
   "name": "python3"
  },
  "language_info": {
   "codemirror_mode": {
    "name": "ipython",
    "version": 3
   },
   "file_extension": ".py",
   "mimetype": "text/x-python",
   "name": "python",
   "nbconvert_exporter": "python",
   "pygments_lexer": "ipython3",
   "version": "3.8.6"
  }
 },
 "nbformat": 4,
 "nbformat_minor": 5
}
