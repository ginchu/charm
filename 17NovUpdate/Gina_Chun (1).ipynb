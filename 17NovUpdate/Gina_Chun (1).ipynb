{
 "cells": [
  {
   "cell_type": "markdown",
   "metadata": {},
   "source": [
    "# Homework 8: Predicting Ground State Energy"
   ]
  },
  {
   "cell_type": "markdown",
   "metadata": {},
   "source": [
    "In this homework, your goal is to predict the energy of the ground state of a molecule, and to reach to lowest possible error on the test set. You must report your score on a scoreboard:"
   ]
  },
  {
   "cell_type": "markdown",
   "metadata": {},
   "source": [
    "https://keepthescore.co/board/ffirhduscve/"
   ]
  },
  {
   "cell_type": "markdown",
   "metadata": {},
   "source": [
    "For this homework, you will use a library called score, which provides you with 1 function. \n",
    "<ul> \n",
    "    <li> test(features,model): features should be a list of mordred features. model should be a scikit learn estimator. return the mean average error on the test set.\n",
    "</ul>\n",
    "At the end of this notebook, you will find an example on how to define a model and test it. You should use datasets A, B, C, D, F, G, H, I for your work. You are encouraged to use multiple datasets!<br>\n",
    "One final note: your position on the scoreboard does matter. If you are doing much worse than your peers, you can expect to receive fewer points. "
   ]
  },
  {
   "cell_type": "code",
   "execution_count": 11,
   "metadata": {},
   "outputs": [],
   "source": [
    "from score import test"
   ]
  },
  {
   "cell_type": "markdown",
   "metadata": {},
   "source": [
    "**Rules**:<br>\n",
    "<ul>\n",
    "    <li> It is forbidden to modify the score library;\n",
    "    <li> It is forbidden to import any other function from the score library;\n",
    "    <li> It is forbidden to use dataset E;\n",
    "    <li> It is forbidden to use any dataset other than A, B, C, D, F, G, H, I;\n",
    "    <li> It is forbidden to use features others than the ones computed from mordred;\n",
    "    <li> You can use any number of features, however, at the end, you will need to provide a brief (and vague) explanation of what your features are doing.\n",
    "    <li> You can use anything you want for modeling, including all the tools available in pytorch, and you can even use other machine libraries if you wish;\n",
    "    <li> It is forbidden to modify the scoreboard page (be careful, you all have admin access to it).\n",
    "</ul>\n",
    "It is very easy to cheat and I rely on your integrity to participate in good faith. If you are caught cheating, you will get 0 for the assignment. "
   ]
  },
  {
   "cell_type": "markdown",
   "metadata": {},
   "source": [
    "## Some advice"
   ]
  },
  {
   "cell_type": "markdown",
   "metadata": {},
   "source": [
    "<ul>\n",
    "<li> For this project, you will have to work using several notebooks.\n",
    "<li> You should start by writing a notebook to create the dataset. Note that if you use many molecules, using MOPAC could take a while. If you decide to optimize the geometry of all the molecules in the Solubility datasets, ot will take at least 12 hours. Make sure to save the result so that you don't have to compute it multiple times!\n",
    "<li> You should probably have another separate notebook that creates the graph version of the dataset. Again, you should save the data, and for this make use to use the save_graph and load_graph functions of DGL.\n",
    "<li> Finally, you should have at least one notebook where you define and train your notebook.\n",
    "<li> As an example, my Reference submission was defined using 5 notebooks...\n",
    "</ul>"
   ]
  },
  {
   "cell_type": "markdown",
   "metadata": {},
   "source": [
    "## Example"
   ]
  },
  {
   "cell_type": "code",
   "execution_count": 2,
   "metadata": {},
   "outputs": [],
   "source": [
    "import numpy as np\n",
    "from sklearn.dummy import DummyRegressor"
   ]
  },
  {
   "cell_type": "code",
   "execution_count": 3,
   "metadata": {},
   "outputs": [],
   "source": [
    "def dummy_E0():\n",
    "    model = DummyRegressor()\n",
    "    model.fit(None,np.array([42]))\n",
    "    return lambda smiles: model.predict(smiles)"
   ]
  },
  {
   "cell_type": "code",
   "execution_count": 5,
   "metadata": {},
   "outputs": [
    {
     "name": "stdout",
     "output_type": "stream",
     "text": [
      "Your score is worse than your previous best score, it will not be reported.\n"
     ]
    },
    {
     "data": {
      "text/plain": [
       "52101.286045329194"
      ]
     },
     "execution_count": 5,
     "metadata": {},
     "output_type": "execute_result"
    }
   ],
   "source": [
    "test(dummy_E0(),'Reference')"
   ]
  },
  {
   "cell_type": "markdown",
   "metadata": {},
   "source": [
    "## Your turn"
   ]
  },
  {
   "cell_type": "code",
   "execution_count": 12,
   "metadata": {},
   "outputs": [],
   "source": [
    "import numpy as np\n",
    "import pandas as pd\n",
    "from sklearn.linear_model import LinearRegression\n",
    "from rdkit import Chem\n",
    "from rdkit.Chem import AllChem\n",
    "import mordred\n",
    "from mordred import Calculator, descriptors\n",
    "from dgllife.utils import smiles_to_bigraph\n",
    "import pickle"
   ]
  },
  {
   "cell_type": "code",
   "execution_count": 13,
   "metadata": {},
   "outputs": [],
   "source": [
    "def featurize_atoms(mol):\n",
    "    # featurize atoms\n",
    "    feats = []\n",
    "    for atom in mol.GetAtoms():\n",
    "        feats.append(atom.GetAtomicNum())\n",
    "    return {'atomic': torch.tensor(feats).reshape(-1, 1).float()}\n",
    "    \n",
    "def featurize_bonds(mol):\n",
    "    # featurize bonds\n",
    "    feats = []\n",
    "    bond_types = [Chem.rdchem.BondType.SINGLE, Chem.rdchem.BondType.DOUBLE,\n",
    "                Chem.rdchem.BondType.TRIPLE, Chem.rdchem.BondType.AROMATIC]\n",
    "    for bond in mol.GetBonds():\n",
    "        btype = bond_types.index(bond.GetBondType())\n",
    "        feats.extend([btype, btype])\n",
    "    return {'type': torch.tensor(feats).reshape(-1, 1).float()}"
   ]
  },
  {
   "cell_type": "code",
   "execution_count": 14,
   "metadata": {},
   "outputs": [],
   "source": [
    "def transform(smile):\n",
    "    g = smiles_to_bigraph(smile, node_featurizer=featurize_atoms, edge_featurizer=featurize_bonds,explicit_hydrogens=True)\n",
    "    return g"
   ]
  },
  {
   "cell_type": "code",
   "execution_count": 17,
   "metadata": {},
   "outputs": [],
   "source": [
    "with open('energy_dict.pickle', 'rb') as handle:\n",
    "    b = pickle.load(handle)"
   ]
  },
  {
   "cell_type": "code",
   "execution_count": 18,
   "metadata": {},
   "outputs": [],
   "source": [
    "def atoms_to_energy(rdkit_atoms,energy_dict):\n",
    "    f = lambda x: x.GetAtomicNum()\n",
    "    sum_e=0\n",
    "    atoms = rdkit_atoms.GetAtoms()\n",
    "    for i in atoms:\n",
    "        sum_e += energy_dict[f(i)]\n",
    "    return sum_e"
   ]
  },
  {
   "cell_type": "code",
   "execution_count": 15,
   "metadata": {},
   "outputs": [],
   "source": [
    "df = pd.read_csv('../../Data/Energy/FeaturizedDataset-HW8.csv')\n",
    "feat = df.columns[1:4]\n",
    "featurized = np.array(df[feat])\n",
    "ener = df.columns[4]\n",
    "energy = np.array(df[ener])"
   ]
  },
  {
   "cell_type": "code",
   "execution_count": 16,
   "metadata": {},
   "outputs": [],
   "source": [
    "features = [mordred.BondCount.BondCount(\"single\", False), mordred.BondCount.BondCount(\"double\", False), mordred.BondCount.BondCount(\"triple\", False)]\n",
    "calc = mordred.Calculator()\n",
    "calc.register(features)"
   ]
  },
  {
   "cell_type": "code",
   "execution_count": null,
   "metadata": {},
   "outputs": [
    {
     "name": "stdout",
     "output_type": "stream",
     "text": [
      "done\n"
     ]
    },
    {
     "data": {
      "application/vnd.jupyter.widget-view+json": {
       "model_id": "65d41386d77d46c2adde776eb3424ca4",
       "version_major": 2,
       "version_minor": 0
      },
      "text/plain": [
       "  0%|          | 0/10 [00:00<?, ?it/s]"
      ]
     },
     "metadata": {},
     "output_type": "display_data"
    },
    {
     "name": "stdout",
     "output_type": "stream",
     "text": [
      "Train loss:  82436.15338821687\n",
      "Train loss:  81996.63770244013\n"
     ]
    }
   ],
   "source": [
    "%run Model_1.ipynb"
   ]
  },
  {
   "cell_type": "code",
   "execution_count": null,
   "metadata": {},
   "outputs": [],
   "source": [
    "def f():\n",
    "    LR = LinearRegression()\n",
    "    LR.fit(featurized,energy)\n",
    "    \n",
    "    def inner(smile):\n",
    "        mol = Chem.MolFromSmiles(smile)\n",
    "        mol = Chem.AddHs(mol)\n",
    "        base = atoms_to_energy(mol,b)\n",
    "        dff = pd.DataFrame(data = {'Mol': mol}, index=[0])\n",
    "        features = np.array(calc.pandas(dff['Mol']))\n",
    "        #print(features)\n",
    "        ae_pred = LR.predict(features)\n",
    "        g = transform(smile)\n",
    "        correction = model(g, g.ndata['atomic'], g.edata['type'])\n",
    "        return [base+ae_pred[0]+correction.item()]\n",
    "    return inner"
   ]
  },
  {
   "cell_type": "code",
   "execution_count": null,
   "metadata": {},
   "outputs": [],
   "source": [
    "test(f(),'Charm')"
   ]
  },
  {
   "cell_type": "code",
   "execution_count": null,
   "metadata": {},
   "outputs": [],
   "source": []
  }
 ],
 "metadata": {
  "kernelspec": {
   "display_name": "Python 3",
   "language": "python",
   "name": "python3"
  },
  "language_info": {
   "codemirror_mode": {
    "name": "ipython",
    "version": 3
   },
   "file_extension": ".py",
   "mimetype": "text/x-python",
   "name": "python",
   "nbconvert_exporter": "python",
   "pygments_lexer": "ipython3",
   "version": "3.8.6"
  }
 },
 "nbformat": 4,
 "nbformat_minor": 4
}
