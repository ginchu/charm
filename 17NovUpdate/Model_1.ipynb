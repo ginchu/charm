{
 "cells": [
  {
   "cell_type": "code",
   "execution_count": null,
   "id": "civilian-pasta",
   "metadata": {},
   "outputs": [
    {
     "name": "stderr",
     "output_type": "stream",
     "text": [
      "Using backend: pytorch\n"
     ]
    }
   ],
   "source": [
    "%run Featurize_Input.ipynb"
   ]
  },
  {
   "cell_type": "code",
   "execution_count": null,
   "id": "popular-pearl",
   "metadata": {},
   "outputs": [],
   "source": [
    "import torch\n",
    "import torch.nn as nn\n",
    "import torch.nn.functional as F\n",
    "from dgl.nn.pytorch import NNConv\n",
    "from rdkit import Chem\n",
    "from tqdm.notebook import tqdm"
   ]
  },
  {
   "cell_type": "code",
   "execution_count": null,
   "id": "endless-girlfriend",
   "metadata": {},
   "outputs": [],
   "source": [
    "from dgllife.model.gnn.mpnn import MPNNGNN\n",
    "from dgllife.model.readout.mlp_readout import MLPNodeReadout\n",
    "from dgllife.model.readout.attentivefp_readout import AttentiveFPReadout\n",
    "from dgllife.model.readout.weighted_sum_and_max import WeightedSumAndMax"
   ]
  },
  {
   "cell_type": "code",
   "execution_count": null,
   "id": "hired-contractor",
   "metadata": {},
   "outputs": [],
   "source": [
    "from dgllife.model.model_zoo.mpnn_predictor import MPNNPredictor"
   ]
  },
  {
   "cell_type": "code",
   "execution_count": null,
   "id": "democratic-knife",
   "metadata": {},
   "outputs": [],
   "source": [
    "class Model(nn.Module):\n",
    "    def __init__(self, \n",
    "                 node_in_feats,\n",
    "                 edge_in_feats,\n",
    "                 node_out_feats=64,\n",
    "                 edge_hidden_feats=128,\n",
    "                 n_tasks=1,\n",
    "                 num_step_message_passing=6):\n",
    "        \n",
    "        super(Model, self).__init__()\n",
    "        self.gnn = MPNNGNN(node_in_feats=node_in_feats,\n",
    "                           node_out_feats=node_out_feats,\n",
    "                           edge_in_feats=edge_in_feats,\n",
    "                           edge_hidden_feats=edge_hidden_feats,\n",
    "                           num_step_message_passing=num_step_message_passing)\n",
    "        \n",
    "        self.readout = MLPNodeReadout(node_feats=node_in_feats, hidden_feats=edge_hidden_feats, graph_feats=node_out_feats)\n",
    "        #self.readout = AttentiveFPReadout(feat_size=node_in_feats)\n",
    "        #self.readout = WeightedSumAndMax(in_feats=node_in_feats)\n",
    "        \n",
    "        self.predict = nn.Sequential(\n",
    "            nn.Linear(node_out_feats, node_out_feats), #nn.Linear(2, node_out_feats), \n",
    "            nn.Dropout(p=0.5),\n",
    "            nn.ReLU(),\n",
    "            nn.Linear(node_out_feats, n_tasks)\n",
    "        )\n",
    "        \n",
    "    def forward(self, g, nodes, edges):\n",
    "        node_feats = self.gnn(g, nodes, edges)\n",
    "        graph_feats = self.readout(g, nodes)\n",
    "        return self.predict(graph_feats)"
   ]
  },
  {
   "cell_type": "code",
   "execution_count": null,
   "id": "embedded-tuner",
   "metadata": {},
   "outputs": [],
   "source": [
    "#model = MPNNPredictor(1,1)\n",
    "model = Model(1,1)"
   ]
  },
  {
   "cell_type": "code",
   "execution_count": null,
   "id": "norwegian-cement",
   "metadata": {},
   "outputs": [],
   "source": [
    "def train(epochs):\n",
    "    optimizer = torch.optim.Adam(model.parameters(),lr=0.001)\n",
    "    for epoch in tqdm(range(epochs)):\n",
    "        model.train()\n",
    "        running_loss = 0.\n",
    "        for batch_x, batch_y in dataloader:\n",
    "            optimizer.zero_grad()\n",
    "            atoms = batch_x.ndata['atomic']\n",
    "            edges = batch_x.edata['type']\n",
    "            y_pred = model(batch_x, atoms, edges)\n",
    "            mse = ((y_pred.reshape(-1) - batch_y)**2).sum()\n",
    "            running_loss += mse.item()\n",
    "            mse.backward()\n",
    "            optimizer.step()\n",
    "            \n",
    "        running_loss /= len(dataloader)\n",
    "        print(\"Train loss: \", running_loss)"
   ]
  },
  {
   "cell_type": "code",
   "execution_count": null,
   "id": "classical-inventory",
   "metadata": {},
   "outputs": [],
   "source": [
    "train(10)"
   ]
  },
  {
   "cell_type": "code",
   "execution_count": null,
   "id": "protected-cleaning",
   "metadata": {},
   "outputs": [],
   "source": []
  },
  {
   "cell_type": "code",
   "execution_count": null,
   "id": "exterior-sodium",
   "metadata": {},
   "outputs": [],
   "source": [
    "#train(2) # mlp + 1 ELU"
   ]
  },
  {
   "cell_type": "code",
   "execution_count": null,
   "id": "duplicate-testing",
   "metadata": {},
   "outputs": [],
   "source": [
    "#train(2) # mlp + 2 ReLU"
   ]
  },
  {
   "cell_type": "code",
   "execution_count": null,
   "id": "aggregate-things",
   "metadata": {},
   "outputs": [],
   "source": [
    "#train(2) # mlp + 2 ELU"
   ]
  },
  {
   "cell_type": "code",
   "execution_count": null,
   "id": "worst-number",
   "metadata": {},
   "outputs": [],
   "source": [
    "#train(2) #readout mlp + 1 ReLU (original)"
   ]
  },
  {
   "cell_type": "code",
   "execution_count": null,
   "id": "desperate-vacuum",
   "metadata": {},
   "outputs": [],
   "source": [
    "#train(2) #readout =  attentive"
   ]
  },
  {
   "cell_type": "code",
   "execution_count": null,
   "id": "referenced-beads",
   "metadata": {},
   "outputs": [],
   "source": [
    "#train(2) #readout = weighted"
   ]
  },
  {
   "cell_type": "code",
   "execution_count": null,
   "id": "induced-declaration",
   "metadata": {},
   "outputs": [],
   "source": [
    "#train(2) #mpnn predictor"
   ]
  },
  {
   "cell_type": "code",
   "execution_count": null,
   "id": "excess-iceland",
   "metadata": {},
   "outputs": [],
   "source": [
    "print('done')"
   ]
  }
 ],
 "metadata": {
  "kernelspec": {
   "display_name": "Python 3",
   "language": "python",
   "name": "python3"
  },
  "language_info": {
   "codemirror_mode": {
    "name": "ipython",
    "version": 3
   },
   "file_extension": ".py",
   "mimetype": "text/x-python",
   "name": "python",
   "nbconvert_exporter": "python",
   "pygments_lexer": "ipython3",
   "version": "3.8.6"
  }
 },
 "nbformat": 4,
 "nbformat_minor": 5
}
