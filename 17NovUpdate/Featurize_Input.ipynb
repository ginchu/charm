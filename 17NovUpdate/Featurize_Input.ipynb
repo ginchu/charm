{
 "cells": [
  {
   "cell_type": "code",
   "execution_count": 1,
   "id": "naval-reasoning",
   "metadata": {},
   "outputs": [],
   "source": [
    "# code to convert SMILES string to bigraph, pull energies as labels\n",
    "# save and load graphs and energies as input (X) and labels (y)"
   ]
  },
  {
   "cell_type": "code",
   "execution_count": 3,
   "id": "experienced-truck",
   "metadata": {},
   "outputs": [
    {
     "name": "stderr",
     "output_type": "stream",
     "text": [
      "Using backend: pytorch\n"
     ]
    }
   ],
   "source": [
    "import torch\n",
    "from rdkit import Chem\n",
    "from dgllife.utils import smiles_to_bigraph\n",
    "from dgl.data.utils import load_graphs\n",
    "from dgl.data.utils import save_graphs\n",
    "from dgl.dataloading import GraphDataLoader as gdl\n",
    "import pandas as pd\n",
    "import numpy as np\n",
    "import os\n",
    "from torch.utils.data import Dataset\n",
    "from dgl.data import DGLDataset"
   ]
  },
  {
   "cell_type": "code",
   "execution_count": 4,
   "id": "patient-insert",
   "metadata": {},
   "outputs": [],
   "source": [
    "class MyDataset(DGLDataset):\n",
    "    def __init__(self,\n",
    "                 df:str,\n",
    "                 url=None,\n",
    "                 raw_dir=None,\n",
    "                 save_dir=None,\n",
    "                 force_reload=False,\n",
    "                 verbose=False):\n",
    "        \n",
    "        self.df = pd.read_csv(df)\n",
    "        \n",
    "        self._name = os.path.basename(df)\n",
    "\n",
    "        self.bigraph = [] # X\n",
    "        self.labels =  [] # y \n",
    "        \n",
    "        super(MyDataset, self).__init__(name=os.path.basename(df),\n",
    "                                        url=url,\n",
    "                                        raw_dir=raw_dir,\n",
    "                                        save_dir=save_dir,\n",
    "                                        force_reload=force_reload,\n",
    "                                        verbose=verbose)\n",
    "\n",
    "    def featurize_atoms(self, mol):\n",
    "    # featurize atoms\n",
    "        feats = []\n",
    "        for atom in mol.GetAtoms():\n",
    "            feats.append(atom.GetAtomicNum())\n",
    "        return {'atomic': torch.tensor(feats).reshape(-1, 1).float()}\n",
    "    \n",
    "    def featurize_bonds(self, mol):\n",
    "    # featurize bonds\n",
    "        feats = []\n",
    "        bond_types = [Chem.rdchem.BondType.SINGLE, Chem.rdchem.BondType.DOUBLE,\n",
    "                    Chem.rdchem.BondType.TRIPLE, Chem.rdchem.BondType.AROMATIC]\n",
    "        for bond in mol.GetBonds():\n",
    "            btype = bond_types.index(bond.GetBondType())\n",
    "            feats.extend([btype, btype])\n",
    "        return {'type': torch.tensor(feats).reshape(-1, 1).float()}\n",
    "    \n",
    "    def process(self):\n",
    "    # make bigraphs and labels (energy)\n",
    "        self.bigraph = list(self.df['Smiles'].apply(lambda x: smiles_to_bigraph(str(x), node_featurizer=self.featurize_atoms, edge_featurizer=self.featurize_bonds,explicit_hydrogens=True)))\n",
    "        self.labels = list(self.df['CorrectionEnergy'])\n",
    "         \n",
    "    def __getitem__(self, idx):\n",
    "    # get one example by index\n",
    "        return self.bigraph[idx], self.labels[idx]\n",
    "\n",
    "    def __len__(self):\n",
    "    # number of graphs in dataset\n",
    "        return len(self.bigraph)\n",
    "    \n",
    "    def save(self):\n",
    "    # save graphs and labels\n",
    "        graph_path = os.path.join(self._name + '_dgl_graph.bin')\n",
    "        save_graphs(graph_path, self.bigraph, {'labels': torch.tensor(self.labels)})\n",
    "        \n",
    "    def load(self):\n",
    "        # load graphs and labels\n",
    "        graph_path = os.path.join(self._name + '_dgl_graph.bin')\n",
    "        graphs, label_dict = load_graphs(graph_path)\n",
    "        labels = label_dict['labels']\n",
    "        return graphs, labels\n"
   ]
  },
  {
   "cell_type": "code",
   "execution_count": 1,
   "id": "occupational-roads",
   "metadata": {},
   "outputs": [],
   "source": [
    "def concatenate():\n",
    "    data_name = ['B', 'C', 'D', 'H']\n",
    "    df_list = []\n",
    "    \n",
    "    #load data\n",
    "    for name in data_name: \n",
    "        df_list.append(pd.read_csv('../../Data/Energy/CorrectionDataset-'+ name +'.csv'))\n",
    "        \n",
    "    #concatenate all datasets\n",
    "    training_data =  pd.concat(df_list, axis=0, ignore_index=True)\n",
    "    training_data.to_csv('../../Data/Energy/CorrectionDataset-HW8.csv')"
   ]
  },
  {
   "cell_type": "code",
   "execution_count": 4,
   "id": "welsh-opportunity",
   "metadata": {},
   "outputs": [],
   "source": [
    "#concatenate()"
   ]
  },
  {
   "cell_type": "code",
   "execution_count": 5,
   "id": "tender-colombia",
   "metadata": {},
   "outputs": [],
   "source": [
    "m = MyDataset( '../../Data/Energy/FinalCorrectionDataset.csv') # file path to csv"
   ]
  },
  {
   "cell_type": "code",
   "execution_count": 6,
   "id": "senior-dylan",
   "metadata": {},
   "outputs": [],
   "source": [
    "m.process()"
   ]
  },
  {
   "cell_type": "code",
   "execution_count": 8,
   "id": "strategic-plastic",
   "metadata": {},
   "outputs": [],
   "source": [
    "dataloader = gdl(m,batch_size=32)"
   ]
  },
  {
   "cell_type": "code",
   "execution_count": 9,
   "id": "vulnerable-vinyl",
   "metadata": {},
   "outputs": [
    {
     "name": "stdout",
     "output_type": "stream",
     "text": [
      "done\n"
     ]
    }
   ],
   "source": [
    "print('done')"
   ]
  },
  {
   "cell_type": "code",
   "execution_count": null,
   "id": "ambient-scope",
   "metadata": {},
   "outputs": [],
   "source": []
  }
 ],
 "metadata": {
  "kernelspec": {
   "display_name": "Python 3",
   "language": "python",
   "name": "python3"
  },
  "language_info": {
   "codemirror_mode": {
    "name": "ipython",
    "version": 3
   },
   "file_extension": ".py",
   "mimetype": "text/x-python",
   "name": "python",
   "nbconvert_exporter": "python",
   "pygments_lexer": "ipython3",
   "version": "3.8.6"
  }
 },
 "nbformat": 4,
 "nbformat_minor": 5
}
