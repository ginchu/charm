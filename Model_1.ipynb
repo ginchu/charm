{
 "cells": [
  {
   "cell_type": "code",
   "execution_count": 75,
   "id": "computational-times",
   "metadata": {},
   "outputs": [
    {
     "name": "stdout",
     "output_type": "stream",
     "text": [
      "done\n"
     ]
    }
   ],
   "source": [
    "%run Featurize_Input.ipynb"
   ]
  },
  {
   "cell_type": "code",
   "execution_count": 76,
   "id": "painful-input",
   "metadata": {},
   "outputs": [],
   "source": [
    "import torch\n",
    "import torch.nn as nn\n",
    "import torch.nn.functional as F\n",
    "from dgl.nn.pytorch import NNConv\n",
    "from rdkit import Chem\n",
    "from tqdm.notebook import tqdm"
   ]
  },
  {
   "cell_type": "code",
   "execution_count": 95,
   "id": "cooked-surname",
   "metadata": {},
   "outputs": [],
   "source": [
    "from dgllife.model.gnn.mpnn import MPNNGNN\n",
    "from dgllife.model.readout.mlp_readout import MLPNodeReadout\n",
    "from dgllife.model.readout.attentivefp_readout import AttentiveFPReadout\n",
    "from dgllife.model.readout.weighted_sum_and_max import WeightedSumAndMax"
   ]
  },
  {
   "cell_type": "code",
   "execution_count": 96,
   "id": "competent-stevens",
   "metadata": {},
   "outputs": [],
   "source": [
    "from dgllife.model.model_zoo.mpnn_predictor import MPNNPredictor"
   ]
  },
  {
   "cell_type": "code",
   "execution_count": 124,
   "id": "colored-thunder",
   "metadata": {},
   "outputs": [],
   "source": [
    "class Model(nn.Module):\n",
    "    def __init__(self, \n",
    "                 node_in_feats,\n",
    "                 edge_in_feats,\n",
    "                 node_out_feats=64,\n",
    "                 edge_hidden_feats=128,\n",
    "                 n_tasks=1,\n",
    "                 num_step_message_passing=6):\n",
    "        \n",
    "        super(Model, self).__init__()\n",
    "        self.gnn = MPNNGNN(node_in_feats=node_in_feats,\n",
    "                           node_out_feats=node_out_feats,\n",
    "                           edge_in_feats=edge_in_feats,\n",
    "                           edge_hidden_feats=edge_hidden_feats,\n",
    "                           num_step_message_passing=num_step_message_passing)\n",
    "        \n",
    "        self.readout = MLPNodeReadout(node_feats=node_in_feats, hidden_feats=edge_hidden_feats, graph_feats=node_out_feats)\n",
    "        #self.readout = AttentiveFPReadout(feat_size=node_in_feats)\n",
    "        #self.readout = WeightedSumAndMax(in_feats=node_in_feats)\n",
    "        \n",
    "        self.predict = nn.Sequential(\n",
    "            nn.Linear(node_out_feats, node_out_feats), #nn.Linear(2, node_out_feats), \n",
    "            nn.Dropout(p=0.5),\n",
    "            nn.ReLU(),\n",
    "            nn.Linear(node_out_feats, n_tasks)\n",
    "        )\n",
    "        \n",
    "    def forward(self, g, nodes, edges):\n",
    "        node_feats = self.gnn(g, nodes, edges)\n",
    "        graph_feats = self.readout(g, nodes)\n",
    "        return self.predict(graph_feats)"
   ]
  },
  {
   "cell_type": "code",
   "execution_count": 121,
   "id": "underlying-technique",
   "metadata": {},
   "outputs": [],
   "source": [
    "#model = MPNNPredictor(1,1)\n",
    "model = Model(1,1)"
   ]
  },
  {
   "cell_type": "code",
   "execution_count": 122,
   "id": "several-thesis",
   "metadata": {},
   "outputs": [],
   "source": [
    "def train(epochs):\n",
    "    optimizer = torch.optim.Adam(model.parameters(),lr=0.001)\n",
    "    for epoch in tqdm(range(epochs)):\n",
    "        model.train()\n",
    "        running_loss = 0.\n",
    "        for batch_x, batch_y in dataloader:\n",
    "            optimizer.zero_grad()\n",
    "            atoms = batch_x.ndata['atomic']\n",
    "            edges = batch_x.edata['type']\n",
    "            y_pred = model(batch_x, atoms, edges)\n",
    "            mse = ((y_pred.reshape(-1) - batch_y)**2).sum()\n",
    "            running_loss += mse.item()\n",
    "            mse.backward()\n",
    "            optimizer.step()\n",
    "            \n",
    "        running_loss /= len(dataloader)\n",
    "        print(\"Train loss: \", running_loss)"
   ]
  },
  {
   "cell_type": "code",
   "execution_count": null,
   "id": "textile-permission",
   "metadata": {},
   "outputs": [],
   "source": [
    "train(20)"
   ]
  },
  {
   "cell_type": "code",
   "execution_count": 9,
   "id": "functioning-nightlife",
   "metadata": {},
   "outputs": [
    {
     "name": "stdout",
     "output_type": "stream",
     "text": [
      "tensor(1.3691e+08, dtype=torch.float64, grad_fn=<SumBackward0>)\n"
     ]
    }
   ],
   "source": [
    "# test\n",
    "# for batch_x, batch_y in dataloader:\n",
    "#     model.eval()\n",
    "#     atoms = batch_x.ndata['atomic']\n",
    "#     edges = batch_x.edata['type']\n",
    "#     y_pred = model(batch_x, atoms, edges)\n",
    "#     mse = ((y_pred.reshape(-1) - batch_y)**2).sum()\n",
    "#     break\n",
    "# print(mse)"
   ]
  },
  {
   "cell_type": "code",
   "execution_count": 123,
   "id": "burning-georgia",
   "metadata": {},
   "outputs": [
    {
     "data": {
      "application/vnd.jupyter.widget-view+json": {
       "model_id": "bece68ec35d8401fae2eb09b8ca2e663",
       "version_major": 2,
       "version_minor": 0
      },
      "text/plain": [
       "  0%|          | 0/2 [00:00<?, ?it/s]"
      ]
     },
     "metadata": {},
     "output_type": "display_data"
    },
    {
     "name": "stdout",
     "output_type": "stream",
     "text": [
      "Train loss:  137018193.2235191\n",
      "Train loss:  70259238.37893505\n"
     ]
    }
   ],
   "source": [
    "#train(2) # mlp + 1 ELU"
   ]
  },
  {
   "cell_type": "code",
   "execution_count": 115,
   "id": "uniform-being",
   "metadata": {},
   "outputs": [
    {
     "data": {
      "application/vnd.jupyter.widget-view+json": {
       "model_id": "cfc7ebc183284f71b3065946e827d8d9",
       "version_major": 2,
       "version_minor": 0
      },
      "text/plain": [
       "  0%|          | 0/2 [00:00<?, ?it/s]"
      ]
     },
     "metadata": {},
     "output_type": "display_data"
    },
    {
     "name": "stdout",
     "output_type": "stream",
     "text": [
      "Train loss:  145059593.34239236\n",
      "Train loss:  68584692.3672683\n"
     ]
    }
   ],
   "source": [
    "#train(2) # mlp + 2 ReLU"
   ]
  },
  {
   "cell_type": "code",
   "execution_count": 119,
   "id": "independent-interference",
   "metadata": {},
   "outputs": [
    {
     "data": {
      "application/vnd.jupyter.widget-view+json": {
       "model_id": "4dd56e10edec45a7b4d97ba178ffd5fb",
       "version_major": 2,
       "version_minor": 0
      },
      "text/plain": [
       "  0%|          | 0/2 [00:00<?, ?it/s]"
      ]
     },
     "metadata": {},
     "output_type": "display_data"
    },
    {
     "name": "stdout",
     "output_type": "stream",
     "text": [
      "Train loss:  146496884.24099994\n",
      "Train loss:  81367387.03909391\n"
     ]
    }
   ],
   "source": [
    "#train(2) # mlp + 2 ELU"
   ]
  },
  {
   "cell_type": "code",
   "execution_count": 108,
   "id": "worldwide-district",
   "metadata": {},
   "outputs": [
    {
     "data": {
      "application/vnd.jupyter.widget-view+json": {
       "model_id": "f575bf1f646f49f19ce7bd1263d49360",
       "version_major": 2,
       "version_minor": 0
      },
      "text/plain": [
       "  0%|          | 0/2 [00:00<?, ?it/s]"
      ]
     },
     "metadata": {},
     "output_type": "display_data"
    },
    {
     "name": "stdout",
     "output_type": "stream",
     "text": [
      "Train loss:  136093413.00844288\n",
      "Train loss:  61622441.00163776\n"
     ]
    }
   ],
   "source": [
    "#train(2) #readout mlp + 1 ReLU (original)"
   ]
  },
  {
   "cell_type": "code",
   "execution_count": 94,
   "id": "thermal-omaha",
   "metadata": {},
   "outputs": [
    {
     "data": {
      "application/vnd.jupyter.widget-view+json": {
       "model_id": "aa193edabcb6498eac133b48f862622d",
       "version_major": 2,
       "version_minor": 0
      },
      "text/plain": [
       "  0%|          | 0/2 [00:00<?, ?it/s]"
      ]
     },
     "metadata": {},
     "output_type": "display_data"
    },
    {
     "name": "stdout",
     "output_type": "stream",
     "text": [
      "Train loss:  152534715.5615262\n",
      "Train loss:  147530688.93964967\n"
     ]
    }
   ],
   "source": [
    "#train(2) #readout =  attentive"
   ]
  },
  {
   "cell_type": "code",
   "execution_count": 104,
   "id": "quantitative-agency",
   "metadata": {},
   "outputs": [
    {
     "data": {
      "application/vnd.jupyter.widget-view+json": {
       "model_id": "5e2699475cb040508701972c177aa80c",
       "version_major": 2,
       "version_minor": 0
      },
      "text/plain": [
       "  0%|          | 0/2 [00:00<?, ?it/s]"
      ]
     },
     "metadata": {},
     "output_type": "display_data"
    },
    {
     "name": "stdout",
     "output_type": "stream",
     "text": [
      "Train loss:  154704668.90200973\n",
      "Train loss:  152357714.10068044\n"
     ]
    }
   ],
   "source": [
    "#train(2) #readout = weighted"
   ]
  },
  {
   "cell_type": "code",
   "execution_count": 111,
   "id": "comic-first",
   "metadata": {},
   "outputs": [
    {
     "data": {
      "application/vnd.jupyter.widget-view+json": {
       "model_id": "1b3675dbfce44bd9bf52459b7e893e63",
       "version_major": 2,
       "version_minor": 0
      },
      "text/plain": [
       "  0%|          | 0/2 [00:00<?, ?it/s]"
      ]
     },
     "metadata": {},
     "output_type": "display_data"
    },
    {
     "name": "stdout",
     "output_type": "stream",
     "text": [
      "Train loss:  154432868.16419235\n",
      "Train loss:  152550736.06438985\n"
     ]
    }
   ],
   "source": [
    "#train(2) #mpnn predictor"
   ]
  },
  {
   "cell_type": "code",
   "execution_count": null,
   "id": "opened-population",
   "metadata": {},
   "outputs": [],
   "source": [
    "print('done')"
   ]
  }
 ],
 "metadata": {
  "kernelspec": {
   "display_name": "Python 3",
   "language": "python",
   "name": "python3"
  },
  "language_info": {
   "codemirror_mode": {
    "name": "ipython",
    "version": 3
   },
   "file_extension": ".py",
   "mimetype": "text/x-python",
   "name": "python",
   "nbconvert_exporter": "python",
   "pygments_lexer": "ipython3",
   "version": "3.8.6"
  }
 },
 "nbformat": 4,
 "nbformat_minor": 5
}
