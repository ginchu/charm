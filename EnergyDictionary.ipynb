{
 "cells": [
  {
   "cell_type": "code",
   "execution_count": 194,
   "id": "stopped-scott",
   "metadata": {},
   "outputs": [],
   "source": [
    "from rdkit import Chem\n",
    "from rdkit.Chem import AllChem\n",
    "from ase.calculators.mopac import MOPAC\n",
    "from ase.io import read\n",
    "import pandas as pd\n",
    "import numpy as np\n",
    "import time\n",
    "from ase import Atoms"
   ]
  },
  {
   "cell_type": "code",
   "execution_count": 28,
   "id": "opposite-workplace",
   "metadata": {},
   "outputs": [],
   "source": [
    "import mordred\n",
    "from mordred import Calculator, descriptors\n",
    "from rdkit.Chem import rdMolDescriptors"
   ]
  },
  {
   "cell_type": "code",
   "execution_count": 164,
   "id": "ignored-baltimore",
   "metadata": {},
   "outputs": [],
   "source": [
    "import json"
   ]
  },
  {
   "cell_type": "code",
   "execution_count": 174,
   "id": "searching-bennett",
   "metadata": {},
   "outputs": [],
   "source": [
    "# load periodic table json file\n",
    "a=json.load(open(\"perotable.json\"))"
   ]
  },
  {
   "cell_type": "code",
   "execution_count": 177,
   "id": "present-coordination",
   "metadata": {},
   "outputs": [],
   "source": [
    "# create dictionary of elements...key: atomic number, value: atomic symbol\n",
    "table=a['elements']\n",
    "elemnt_table={}\n",
    "# first 40 elements (not likely to find metals, etc), can change if wanted\n",
    "for i in table[:40]:\n",
    "    elemnt_table.update({i['number']:i['symbol']})\n",
    "print(elemnt_table)"
   ]
  },
  {
   "cell_type": "code",
   "execution_count": 196,
   "id": "immediate-reporter",
   "metadata": {},
   "outputs": [],
   "source": [
    "# create a dictionary of energies per atom...key: atomic number, value: energy via PM7/MOPAC\n",
    "energy_dict={}\n",
    "for i,symbol in elemnt_table.items():\n",
    "        #create ASE atoms object\n",
    "\n",
    "        mol = Atoms(symbol, positions=[(0, 0, 0)])\n",
    "        #calculate \n",
    "        mol.calc = MOPAC(label=f'atomic_energy{symbol}', task = 'UHF')\n",
    "\n",
    "        #get potential energy\n",
    "        pse = mol.get_potential_energy()\n",
    "\n",
    "        energy_dict.update ({i:pse})\n",
    "print(energy_dict)\n"
   ]
  },
  {
   "cell_type": "code",
   "execution_count": null,
   "id": "banned-tender",
   "metadata": {},
   "outputs": [],
   "source": [
    "# look up atoms by their atomic number in the energy dictionary\n",
    "# pull energies of those atoms and sum them for total energy\n",
    "# this is the energy when atoms are infinitely far apart"
   ]
  },
  {
   "cell_type": "code",
   "execution_count": 147,
   "id": "checked-angel",
   "metadata": {},
   "outputs": [],
   "source": [
    "f = lambda x:x.GetAtomicNum()"
   ]
  },
  {
   "cell_type": "code",
   "execution_count": 151,
   "id": "painful-microphone",
   "metadata": {},
   "outputs": [],
   "source": [
    "def atoms_to_energy(atoms,energy_dict):\n",
    "    sum_e=0\n",
    "    for i in atoms:\n",
    "        sum_e += dic[f(i)]\n",
    "    return sum_e"
   ]
  },
  {
   "cell_type": "code",
   "execution_count": 149,
   "id": "iraqi-password",
   "metadata": {},
   "outputs": [
    {
     "data": {
      "text/plain": [
       "1477.2999999999997"
      ]
     },
     "execution_count": 149,
     "metadata": {},
     "output_type": "execute_result"
    }
   ],
   "source": [
    "sum_e"
   ]
  },
  {
   "cell_type": "code",
   "execution_count": 83,
   "id": "naval-papua",
   "metadata": {},
   "outputs": [
    {
     "name": "stdout",
     "output_type": "stream",
     "text": [
      "SINGLE\n",
      "SINGLE\n",
      "SINGLE\n"
     ]
    }
   ],
   "source": [
    "# # bond info\n",
    "# m = Chem.MolFromSmiles('C1OC1')\n",
    "# for atom in m.GetAtoms():\n",
    "#     print(m.GetBonds()[0].GetBondType())"
   ]
  },
  {
   "cell_type": "code",
   "execution_count": null,
   "id": "collectible-arkansas",
   "metadata": {},
   "outputs": [],
   "source": [
    "# get type of each atom present in the SMILES string\n",
    "# get number of each atom type present in SMILES string"
   ]
  },
  {
   "cell_type": "code",
   "execution_count": 24,
   "id": "expired-onion",
   "metadata": {},
   "outputs": [
    {
     "name": "stderr",
     "output_type": "stream",
     "text": [
      "100%|██████████| 578/578 [00:04<00:00, 132.37it/s]\n"
     ]
    }
   ],
   "source": [
    "# calculate the energy via MOPAC/PM7 for each individual atom present in the SMILES string\n",
    "\n",
    "# multiply the energy of each atom type by its number in the molecule\n",
    "\n",
    "# sum the products for the \"upper bound\" energy (atoms inf far apart)\n",
    "\n",
    "# subtract the PM7 ground state energy for the molecule from the sum of the products (inf far apart sum - PM7 GS) to get atomistic energy (delta E)\n",
    "\n",
    "# use this as the energy value to featurize"
   ]
  }
 ],
 "metadata": {
  "kernelspec": {
   "display_name": "Python 3",
   "language": "python",
   "name": "python3"
  },
  "language_info": {
   "codemirror_mode": {
    "name": "ipython",
    "version": 3
   },
   "file_extension": ".py",
   "mimetype": "text/x-python",
   "name": "python",
   "nbconvert_exporter": "python",
   "pygments_lexer": "ipython3",
   "version": "3.8.6"
  }
 },
 "nbformat": 4,
 "nbformat_minor": 5
}
