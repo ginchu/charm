{
 "cells": [
  {
   "cell_type": "markdown",
   "metadata": {},
   "source": [
    "# Homework 4: Predicting Solubility"
   ]
  },
  {
   "cell_type": "markdown",
   "metadata": {},
   "source": [
    "In this homework, your goal is to predict the solubility of a compound, and to reach to lowest possible error on the test set. To make this homework a little more interactive, you should report your score on a scoreboard: https://keepthescore.co/board/cmdaqeorufe/ <br> For this homework, you will use a library called score, which provides you with 3 functions. \n",
    "<ul>\n",
    "    <li> featurize(dataset,features): dataset should be a CSV file with at least two columns: SMILES and Solubility. features should be a list of mordred features. Returns two numpy tensors, one with the result of the feature calculation, one with the target. \n",
    "    <li> test(features,model): features should be a list of mordred features. model should be a scikit learn estimator. return the mean average error on the test set.\n",
    "    <li> report(teamname): teaname should be your team name, per the canvas group assignment. Effect: records your current score on the scoreboard.\n",
    "</ul>\n",
    "At the end of this notebook, you will find an example on how to train a model, test it, and report a score. Note that you are allowed to use my featurize function for your featurization. If you want to use 3D features, please contact me. You should use datasets A, B, C, D, F, G, H, I for your work. You are encouraged to use multiple datasets!<br>\n",
    "One final note: you will not be graded based on the scoreboard. Of course, there might be some anticorrelation between your test score and your grade, but you need not worry about the scoreboard."
   ]
  },
  {
   "cell_type": "code",
   "execution_count": 1,
   "metadata": {},
   "outputs": [],
   "source": [
    "from score import report, featurize, test"
   ]
  },
  {
   "cell_type": "markdown",
   "metadata": {},
   "source": [
    "**Rules**:<br>\n",
    "<ul>\n",
    "    <li> It is forbidden to modify the score library;\n",
    "    <li> It is forbidden to import any other function from the score library;\n",
    "    <li> It is forbidden to use dataset E;\n",
    "    <li> It is forbidden to use any dataset other than A, B, C, D, F, G, H, I;\n",
    "    <li> It is forbidden to use features others than the ones computed from mordred;\n",
    "    <li> You can use any number of features, however, at the end, you will need to provide a brief (and vague) explanation of what your features are doing.\n",
    "    <li> You can use anything you want for modeling, including all the tools available in pytorch, and you can even use other machine libraries if you wish;\n",
    "    <li> It is forbidden to modify the scoreboard page (be careful, you all have admin access to it).\n",
    "</ul>\n",
    "It is very easy to cheat and rely on your integrity to participate in good faith. If you are caught cheating, you will get 0 for the assignment. "
   ]
  },
  {
   "cell_type": "markdown",
   "metadata": {},
   "source": [
    "## Example"
   ]
  },
  {
   "cell_type": "code",
   "execution_count": 2,
   "metadata": {},
   "outputs": [],
   "source": [
    "import numpy as np\n",
    "import pandas as pd\n",
    "import mordred.AtomCount"
   ]
  },
  {
   "cell_type": "code",
   "execution_count": 4,
   "metadata": {},
   "outputs": [],
   "source": [
    "features = [mordred.AtomCount.AtomCount(\"X\"), mordred.AtomCount.AtomCount(\"HeavyAtom\")]"
   ]
  },
  {
   "cell_type": "code",
   "execution_count": 5,
   "metadata": {},
   "outputs": [
    {
     "name": "stderr",
     "output_type": "stream",
     "text": [
      "100%|██████████| 1210/1210 [00:03<00:00, 340.32it/s]\n"
     ]
    }
   ],
   "source": [
    "X_train, y_train = featurize('../../Data/Solubility/dataset-F.csv',features)"
   ]
  },
  {
   "cell_type": "code",
   "execution_count": 6,
   "metadata": {},
   "outputs": [],
   "source": [
    "from sklearn.linear_model import LinearRegression"
   ]
  },
  {
   "cell_type": "code",
   "execution_count": 7,
   "metadata": {},
   "outputs": [],
   "source": [
    "model = LinearRegression()"
   ]
  },
  {
   "cell_type": "code",
   "execution_count": 8,
   "metadata": {},
   "outputs": [
    {
     "data": {
      "text/plain": [
       "LinearRegression()"
      ]
     },
     "execution_count": 8,
     "metadata": {},
     "output_type": "execute_result"
    }
   ],
   "source": [
    "model.fit(X_train,y_train)"
   ]
  },
  {
   "cell_type": "code",
   "execution_count": 9,
   "metadata": {},
   "outputs": [
    {
     "name": "stderr",
     "output_type": "stream",
     "text": [
      "100%|██████████| 1291/1291 [00:02<00:00, 491.51it/s]\n"
     ]
    },
    {
     "data": {
      "text/plain": [
       "1.1686300929090718"
      ]
     },
     "execution_count": 9,
     "metadata": {},
     "output_type": "execute_result"
    }
   ],
   "source": [
    "test(features,model)"
   ]
  },
  {
   "cell_type": "code",
   "execution_count": 10,
   "metadata": {
    "collapsed": true,
    "jupyter": {
     "outputs_hidden": true
    }
   },
   "outputs": [
    {
     "ename": "UnboundLocalError",
     "evalue": "local variable 'diff' referenced before assignment",
     "output_type": "error",
     "traceback": [
      "\u001b[0;31m---------------------------------------------------------------------------\u001b[0m",
      "\u001b[0;31mUnboundLocalError\u001b[0m                         Traceback (most recent call last)",
      "\u001b[0;32m<ipython-input-10-98b03d7fcccb>\u001b[0m in \u001b[0;36m<module>\u001b[0;34m\u001b[0m\n\u001b[0;32m----> 1\u001b[0;31m \u001b[0mreport\u001b[0m\u001b[0;34m(\u001b[0m\u001b[0;34m'Test'\u001b[0m\u001b[0;34m)\u001b[0m\u001b[0;34m\u001b[0m\u001b[0;34m\u001b[0m\u001b[0m\n\u001b[0m",
      "\u001b[0;32m~/MLQC_HW/Homework/hw4/score.py\u001b[0m in \u001b[0;36mreport\u001b[0;34m(teamname)\u001b[0m\n\u001b[1;32m     58\u001b[0m             \u001b[0;32mbreak\u001b[0m\u001b[0;34m\u001b[0m\u001b[0;34m\u001b[0m\u001b[0m\n\u001b[1;32m     59\u001b[0m     \u001b[0mdone\u001b[0m \u001b[0;34m=\u001b[0m \u001b[0;32mFalse\u001b[0m\u001b[0;34m\u001b[0m\u001b[0;34m\u001b[0m\u001b[0m\n\u001b[0;32m---> 60\u001b[0;31m     \u001b[0;32mif\u001b[0m \u001b[0;34m(\u001b[0m\u001b[0mdiff\u001b[0m \u001b[0;34m<\u001b[0m \u001b[0;36m0\u001b[0m\u001b[0;34m)\u001b[0m\u001b[0;34m:\u001b[0m\u001b[0;34m\u001b[0m\u001b[0;34m\u001b[0m\u001b[0m\n\u001b[0m\u001b[1;32m     61\u001b[0m         \u001b[0mcommit\u001b[0m\u001b[0;34m(\u001b[0m\u001b[0mdiff\u001b[0m\u001b[0;34m,\u001b[0m\u001b[0mteamname\u001b[0m\u001b[0;34m)\u001b[0m\u001b[0;34m\u001b[0m\u001b[0;34m\u001b[0m\u001b[0m\n\u001b[1;32m     62\u001b[0m     \u001b[0;32melse\u001b[0m\u001b[0;34m:\u001b[0m\u001b[0;34m\u001b[0m\u001b[0;34m\u001b[0m\u001b[0m\n",
      "\u001b[0;31mUnboundLocalError\u001b[0m: local variable 'diff' referenced before assignment"
     ]
    }
   ],
   "source": [
    "report('Test')"
   ]
  },
  {
   "cell_type": "markdown",
   "metadata": {},
   "source": [
    "## Your turn"
   ]
  },
  {
   "cell_type": "code",
   "execution_count": 3,
   "metadata": {},
   "outputs": [],
   "source": [
    "from sklearn.linear_model import Ridge\n",
    "from sklearn.preprocessing import StandardScaler\n",
    "from sklearn.decomposition import PCA\n",
    "from sklearn.model_selection import GridSearchCV\n",
    "from sklearn.preprocessing import PolynomialFeatures as PF\n",
    "from sklearn.pipeline import Pipeline\n",
    "from sklearn.metrics import mean_absolute_error\n",
    "from sklearn.svm import SVR\n",
    "import mordred\n",
    "from mordred import Calculator, descriptors"
   ]
  },
  {
   "cell_type": "code",
   "execution_count": 5,
   "metadata": {},
   "outputs": [],
   "source": [
    "def concatenate():\n",
    "    data_name = ['B', 'C', 'D', 'F', 'G', 'H']\n",
    "    df_list = []\n",
    "    \n",
    "    #load data\n",
    "    for name in data_name: \n",
    "        df_list.append(pd.read_csv('../../Data/Solubility/dataset-'+ name +'.csv'))\n",
    "        \n",
    "    #concatenate all datasets\n",
    "    training_data =  pd.concat(df_list, axis=0, ignore_index=True)\n",
    "    training_data.to_csv('../../Data/Solubility/dataset-HW4.csv')"
   ]
  },
  {
   "cell_type": "code",
   "execution_count": 6,
   "metadata": {},
   "outputs": [],
   "source": [
    "concatenate()"
   ]
  },
  {
   "cell_type": "code",
   "execution_count": 7,
   "metadata": {},
   "outputs": [],
   "source": [
    "# list of mordred features\n",
    "features=  [\n",
    "    mordred.Weight.Weight(exact=True, averaged=False), \n",
    "    mordred.Autocorrelation.ATS(3, 'dv'), \n",
    "    mordred.Aromatic.AromaticAtomsCount, \n",
    "    mordred.ABCIndex.ABCIndex, \n",
    "    mordred.WienerIndex.WienerIndex(polarity=True), \n",
    "    mordred.TopologicalIndex.Diameter, \n",
    "    mordred.HydrogenBond.HBondAcceptor, \n",
    "    mordred.HydrogenBond.HBondDonor, \n",
    "    mordred.AtomCount.AtomCount(\"C\"), \n",
    "    mordred.AtomCount.AtomCount(\"O\"), \n",
    "    mordred.AtomCount.AtomCount(\"N\"), \n",
    "    mordred.RotatableBond.RotatableBondsCount, \n",
    "    mordred.RingCount.RingCount, \n",
    "    mordred.Polarizability.APol,\n",
    "    mordred.Polarizability.BPol, \n",
    "    mordred.SLogP, \n",
    "    mordred.TopoPSA.TopoPSA(True)\n",
    "         ]"
   ]
  },
  {
   "cell_type": "code",
   "execution_count": 8,
   "metadata": {
    "collapsed": true,
    "jupyter": {
     "outputs_hidden": true
    }
   },
   "outputs": [
    {
     "name": "stderr",
     "output_type": "stream",
     "text": [
      "RDKit WARNING: [01:21:21] WARNING: not removing hydrogen atom without neighbors\n",
      "RDKit WARNING: [01:21:21] WARNING: not removing hydrogen atom without neighbors\n",
      "RDKit WARNING: [01:21:21] WARNING: not removing hydrogen atom without neighbors\n",
      "RDKit WARNING: [01:21:21] WARNING: not removing hydrogen atom without neighbors\n",
      "RDKit WARNING: [01:21:21] WARNING: not removing hydrogen atom without neighbors\n",
      "RDKit WARNING: [01:21:21] WARNING: not removing hydrogen atom without neighbors\n",
      "RDKit WARNING: [01:21:21] WARNING: not removing hydrogen atom without neighbors\n",
      "RDKit WARNING: [01:21:21] WARNING: not removing hydrogen atom without neighbors\n",
      "RDKit WARNING: [01:21:21] WARNING: not removing hydrogen atom without neighbors\n",
      "RDKit WARNING: [01:21:21] WARNING: not removing hydrogen atom without neighbors\n",
      "RDKit WARNING: [01:21:21] WARNING: not removing hydrogen atom without neighbors\n",
      "RDKit WARNING: [01:21:21] WARNING: not removing hydrogen atom without neighbors\n",
      "  0%|          | 0/12300 [00:00<?, ?it/s]RDKit WARNING: [01:21:23] WARNING: not removing hydrogen atom without neighbors\n",
      "RDKit WARNING: [01:21:23] WARNING: not removing hydrogen atom without neighbors\n",
      "  0%|          | 45/12300 [00:00<00:50, 241.22it/s]RDKit WARNING: [01:21:23] WARNING: not removing hydrogen atom without neighbors\n",
      "RDKit WARNING: [01:21:23] WARNING: not removing hydrogen atom without neighbors\n",
      "  1%|          | 77/12300 [00:00<00:47, 257.77it/s]RDKit WARNING: [01:21:23] WARNING: not removing hydrogen atom without neighbors\n",
      "RDKit WARNING: [01:21:23] WARNING: not removing hydrogen atom without neighbors\n",
      "  6%|▌         | 763/12300 [00:03<00:48, 239.84it/s]RDKit WARNING: [01:21:26] WARNING: not removing hydrogen atom without neighbors\n",
      "RDKit WARNING: [01:21:26] WARNING: not removing hydrogen atom without neighbors\n",
      "  6%|▋         | 789/12300 [00:03<00:46, 245.12it/s]RDKit WARNING: [01:21:26] WARNING: not removing hydrogen atom without neighbors\n",
      "RDKit WARNING: [01:21:26] WARNING: not removing hydrogen atom without neighbors\n",
      "RDKit WARNING: [01:21:26] WARNING: not removing hydrogen atom without neighbors\n",
      "RDKit WARNING: [01:21:26] WARNING: not removing hydrogen atom without neighbors\n",
      "  9%|▊         | 1067/12300 [00:04<00:42, 261.86it/s]RDKit WARNING: [01:21:27] WARNING: not removing hydrogen atom without neighbors\n",
      "RDKit WARNING: [01:21:27] WARNING: not removing hydrogen atom without neighbors\n",
      " 14%|█▍        | 1708/12300 [00:06<00:38, 276.95it/s]RDKit WARNING: [01:21:29] WARNING: not removing hydrogen atom without neighbors\n",
      "RDKit WARNING: [01:21:29] WARNING: not removing hydrogen atom without neighbors\n",
      " 19%|█▊        | 2282/12300 [00:08<00:36, 273.09it/s]RDKit WARNING: [01:21:32] WARNING: not removing hydrogen atom without neighbors\n",
      "RDKit WARNING: [01:21:32] WARNING: not removing hydrogen atom without neighbors\n",
      " 21%|██        | 2581/12300 [00:09<00:34, 280.32it/s]RDKit WARNING: [01:21:33] WARNING: not removing hydrogen atom without neighbors\n",
      "RDKit WARNING: [01:21:33] WARNING: not removing hydrogen atom without neighbors\n",
      " 26%|██▌       | 3144/12300 [00:12<00:36, 253.01it/s]RDKit WARNING: [01:21:35] WARNING: not removing hydrogen atom without neighbors\n",
      "RDKit WARNING: [01:21:35] WARNING: not removing hydrogen atom without neighbors\n",
      "RDKit WARNING: [01:21:35] WARNING: not removing hydrogen atom without neighbors\n",
      "RDKit WARNING: [01:21:35] WARNING: not removing hydrogen atom without neighbors\n",
      "100%|██████████| 12300/12300 [00:49<00:00, 246.89it/s]\n"
     ]
    }
   ],
   "source": [
    "# load X_train and y_train\n",
    "X_train, y_train = featurize('../../Data/Solubility/dataset-HW4.csv',features)"
   ]
  },
  {
   "cell_type": "code",
   "execution_count": 9,
   "metadata": {},
   "outputs": [],
   "source": [
    "from sklearn.ensemble import RandomForestRegressor\n",
    "model = RandomForestRegressor(random_state = 0, n_estimators=100)"
   ]
  },
  {
   "cell_type": "code",
   "execution_count": 10,
   "metadata": {},
   "outputs": [
    {
     "data": {
      "text/plain": [
       "RandomForestRegressor(random_state=0)"
      ]
     },
     "execution_count": 10,
     "metadata": {},
     "output_type": "execute_result"
    }
   ],
   "source": [
    "model.fit(X_train,y_train)"
   ]
  },
  {
   "cell_type": "code",
   "execution_count": 11,
   "metadata": {},
   "outputs": [
    {
     "name": "stderr",
     "output_type": "stream",
     "text": [
      "100%|██████████| 1291/1291 [00:05<00:00, 245.83it/s]\n"
     ]
    },
    {
     "data": {
      "text/plain": [
       "0.12282800509067242"
      ]
     },
     "execution_count": 11,
     "metadata": {},
     "output_type": "execute_result"
    }
   ],
   "source": [
    "test(features,model)"
   ]
  },
  {
   "cell_type": "code",
   "execution_count": null,
   "metadata": {},
   "outputs": [],
   "source": [
    "report('Charm')"
   ]
  },
  {
   "cell_type": "markdown",
   "metadata": {},
   "source": [
    "## Explanation of Used Features"
   ]
  },
  {
   "cell_type": "markdown",
   "metadata": {},
   "source": [
    "1. Molecular Weight [MW]\n",
    ": *Molecular weight (MW) is the mass of a compound. Generally, a heavier molecule will not be as soluble as lighter ones*\n",
    "\n",
    "2. ATS (lag 3)\n",
    ": *Autocorrelation (moreau-broto) weighted by valence electrons. Valence electrons are the most likely to be involved in bonding.*\n",
    "\n",
    "3. AromaticAtomsCount [nAromAtom]\n",
    ": *Aromatic atoms count. Increased aromaticity leads to a potential decrease in solubility.*\n",
    "\n",
    "4. ABCIndex\n",
    ": *This is an atom-bond connectivity index descriptor, and solubility relates to the connectivity of atoms.*\n",
    "\n",
    "5. WienerIndex(polarity=true)\n",
    ": *Polarity is a great indicator of solubility. We have the rule “like dissolves like” in Chemistry because polar solutes dissolve in polar solvents and nonpolar solutes dissolve in nonpolar solvents.*\n",
    "\n",
    "6. Diameter\n",
    ": *This gives the diameter of the molecule. It is more difficult for solvent molecules to surround larger solute molecules, so a larger diameter generally corresponds with lower solubility.*\n",
    "\n",
    "7. HBondAcceptor/HBondDonor [nHBAcc/nHBDon]\n",
    ": *These are the number of hydrogen bond acceptors and donors present in a molecule. This reveals information about polarity and willingness to bond.*\n",
    "\n",
    "8. AtomCount(“C”)\n",
    ": *Counts number of carbon atoms, giving information about molecular size, so would affect solubility.*\n",
    "\n",
    "9. AtomCount(“O”)\n",
    ": *Counts number of oxygen atoms, which are more polar so they would affect solubility.*\n",
    "\n",
    "10. AtomCount(“N”)\n",
    ": *Counts number of nitrogen atoms, which are more polar so they would affect solubility.* \n",
    "\n",
    "11. RotatableBondsCount\n",
    ": *It’s giving information about bonds, how the molecule is moving in space, and this information could help predict solubility. There was a paper online that said rigidity can decrease solubility so perhaps counting rotatable bonds relates to the prediction model in this way.*\n",
    "\n",
    "12. RingCount [nRing]\n",
    ": *This is the number of rings within a molecule. Our settings include all ring types (aromatic/non-aromatic, carbon or other). Based on the type of ring and number of rings present within a molecule, the solubility will be affected. Rings can reveal information about bonding available. Aromatic rings generally decrease solubility, but substitutions onto the ring can drastically change things.*\n",
    "\n",
    "13. APol and BPol\n",
    ": *Atomic and bond polarizability. Similar to topoPSA, polarizability plays a major role in solubility.*\n",
    "\n",
    "14. S Log(P)\n",
    ": *Log S is a feature designed to predict solubility in water for a given molecule. The log portion refers to the log of the molarity of a molecule. Filter It is a program that filters out molecules with undesirable qualities.*\n",
    "\n",
    "15. TopoPSA:\n",
    ": *Topological surface area is the sum of all polar regions of a molecule (oxygens, nitrogens, and attached hydrogens). This is basically a map of polarity (ie “like dissolves like” and to what degree this would happen in a particular situation).*"
   ]
  },
  {
   "cell_type": "code",
   "execution_count": null,
   "metadata": {},
   "outputs": [],
   "source": []
  }
 ],
 "metadata": {
  "kernelspec": {
   "display_name": "Python 3",
   "language": "python",
   "name": "python3"
  },
  "language_info": {
   "codemirror_mode": {
    "name": "ipython",
    "version": 3
   },
   "file_extension": ".py",
   "mimetype": "text/x-python",
   "name": "python",
   "nbconvert_exporter": "python",
   "pygments_lexer": "ipython3",
   "version": "3.8.6"
  }
 },
 "nbformat": 4,
 "nbformat_minor": 4
}
