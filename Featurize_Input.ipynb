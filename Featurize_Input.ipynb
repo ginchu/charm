{
 "cells": [
  {
   "cell_type": "code",
   "execution_count": 1,
   "id": "terminal-methodology",
   "metadata": {},
   "outputs": [],
   "source": [
    "# code to convert SMILES string to bigraph, pull energies as labels\n",
    "# save and load graphs and energies as input (X) and labels (y)"
   ]
  },
  {
   "cell_type": "code",
   "execution_count": 2,
   "id": "latest-plane",
   "metadata": {},
   "outputs": [
    {
     "name": "stderr",
     "output_type": "stream",
     "text": [
      "Using backend: pytorch\n"
     ]
    }
   ],
   "source": [
    "import torch\n",
    "from rdkit import Chem\n",
    "from dgllife.utils import smiles_to_bigraph\n",
    "# from dgllife.utils import mol_to_bigraph\n",
    "from dgl.data.utils import load_graphs\n",
    "from dgl.data.utils import save_graphs\n",
    "from dgl.dataloading import GraphDataLoader as gdl\n",
    "import pandas as pd\n",
    "import numpy as np\n",
    "import os\n",
    "from sklearn.model_selection import train_test_split\n",
    "from torch.utils.data import Dataset"
   ]
  },
  {
   "cell_type": "code",
   "execution_count": 3,
   "id": "fifteen-dancing",
   "metadata": {},
   "outputs": [],
   "source": [
    "class MyDataset():\n",
    "    def __init__(self, df:str):\n",
    "        \n",
    "        self.df = pd.read_csv(df)\n",
    "        self.name = os.path.basename(df)\n",
    "        \n",
    "        self.bigraph = [] # X\n",
    "        self.labels =  np.ndarray([]) # y \n",
    "        \n",
    "\n",
    "    def featurize_atoms(self, mol):\n",
    "    # featurize atoms\n",
    "        feats = []\n",
    "        for atom in mol.GetAtoms():\n",
    "            feats.append(atom.GetAtomicNum())\n",
    "        return {'atomic': torch.tensor(feats).reshape(-1, 1).float()}\n",
    "    \n",
    "    def featurize_bonds(self, mol):\n",
    "    # featurize bonds\n",
    "        feats = []\n",
    "        bond_types = [Chem.rdchem.BondType.SINGLE, Chem.rdchem.BondType.DOUBLE,\n",
    "                    Chem.rdchem.BondType.TRIPLE, Chem.rdchem.BondType.AROMATIC]\n",
    "        for bond in mol.GetBonds():\n",
    "            btype = bond_types.index(bond.GetBondType())\n",
    "            feats.extend([btype, btype])\n",
    "        return {'type': torch.tensor(feats).reshape(-1, 1).float()}\n",
    "    \n",
    "    def process(self):\n",
    "    # make bigraphs and labels (energy)\n",
    "        self.bigraph = list(self.df['Smiles'].apply(lambda x: smiles_to_bigraph(str(x), node_featurizer=self.featurize_atoms, edge_featurizer=self.featurize_bonds,explicit_hydrogens=True)))\n",
    "        self.labels = np.array(self.df[\"Energy\"])\n",
    "    \n",
    "    def __getitem__(self, idx):\n",
    "    # get one example by index\n",
    "        return self.graphs[idx], self.label[idx]\n",
    "\n",
    "    def __len__(self):\n",
    "    # number of graphs in dataset\n",
    "        return len(self.graphs)\n",
    "    \n",
    "    def save(self, path):\n",
    "    # save graphs and labels\n",
    "        graph_path = os.path.join(path, self.name + '_dgl_graph.bin')\n",
    "        save_graphs(graph_path, self.bigraph, {'labels': torch.tensor(self.labels)})\n",
    "        "
   ]
  },
  {
   "cell_type": "code",
   "execution_count": 4,
   "id": "statutory-cowboy",
   "metadata": {},
   "outputs": [],
   "source": [
    "m = MyDataset( '../../Data/Solubility/EnergyDataset-B-Copy1.csv') # file path to csv\n",
    "m.process()"
   ]
  },
  {
   "cell_type": "code",
   "execution_count": 5,
   "id": "juvenile-feedback",
   "metadata": {},
   "outputs": [],
   "source": [
    "m.save('../../Data/Energy/graphs')"
   ]
  },
  {
   "cell_type": "code",
   "execution_count": 6,
   "id": "roman-smith",
   "metadata": {},
   "outputs": [],
   "source": [
    "def load(name, path):\n",
    "    # load graphs and labels\n",
    "    graph_path = os.path.join(path, name + '_dgl_graph.bin')\n",
    "    graphs, label_dict = load_graphs(graph_path)\n",
    "    labels = label_dict['labels']\n",
    "    return graphs, labels"
   ]
  },
  {
   "cell_type": "code",
   "execution_count": 7,
   "id": "rolled-arthur",
   "metadata": {},
   "outputs": [],
   "source": [
    "# load X and y\n",
    "X, y = load(\"EnergyDataset-B-Copy1.csv\",\"./graphs/\") # name = csv file name, \"./graphs\" = folder name to store graph data"
   ]
  },
  {
   "cell_type": "code",
   "execution_count": 8,
   "id": "seeing-analysis",
   "metadata": {},
   "outputs": [],
   "source": [
    "# X"
   ]
  },
  {
   "cell_type": "code",
   "execution_count": 9,
   "id": "touched-baptist",
   "metadata": {},
   "outputs": [],
   "source": [
    "# y"
   ]
  },
  {
   "cell_type": "code",
   "execution_count": 10,
   "id": "progressive-tuner",
   "metadata": {},
   "outputs": [],
   "source": [
    "# split into train and test\n",
    "X_train, X_test, y_train, y_test = train_test_split(X,y)\n",
    "# split train into train and validation\n",
    "X_train, X_val, y_train, y_val = train_test_split(X_train,y_train)"
   ]
  },
  {
   "cell_type": "code",
   "execution_count": 11,
   "id": "looking-hazard",
   "metadata": {},
   "outputs": [],
   "source": [
    "train_dataset = X_train,y_train\n",
    "val_dataset = X_val, y_val\n",
    "test_dataset = X_test, y_test"
   ]
  },
  {
   "cell_type": "code",
   "execution_count": 13,
   "id": "parliamentary-township",
   "metadata": {},
   "outputs": [],
   "source": [
    "train_dataloader = gdl(train_dataset, batch_size=1024, shuffle=True, drop_last=False, num_workers=4)\n",
    "val_dataloader = gdl(val_dataset, batch_size=1024, shuffle=True, drop_last=False, num_workers=4)\n",
    "test_dataloader = gdl(test_dataset, batch_size=1024, shuffle=True, drop_last=False, num_workers=4)"
   ]
  },
  {
   "cell_type": "code",
   "execution_count": 14,
   "id": "documented-efficiency",
   "metadata": {},
   "outputs": [
    {
     "data": {
      "text/plain": [
       "<dgl.dataloading.pytorch.GraphDataLoader at 0x7f6335229cd0>"
      ]
     },
     "execution_count": 14,
     "metadata": {},
     "output_type": "execute_result"
    }
   ],
   "source": []
  },
  {
   "cell_type": "code",
   "execution_count": null,
   "id": "foreign-ministry",
   "metadata": {},
   "outputs": [],
   "source": []
  },
  {
   "cell_type": "raw",
   "id": "incorporated-speed",
   "metadata": {},
   "source": []
  }
 ],
 "metadata": {
  "kernelspec": {
   "display_name": "Python 3",
   "language": "python",
   "name": "python3"
  },
  "language_info": {
   "codemirror_mode": {
    "name": "ipython",
    "version": 3
   },
   "file_extension": ".py",
   "mimetype": "text/x-python",
   "name": "python",
   "nbconvert_exporter": "python",
   "pygments_lexer": "ipython3",
   "version": "3.8.6"
  }
 },
 "nbformat": 4,
 "nbformat_minor": 5
}
