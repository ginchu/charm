{
 "cells": [
  {
   "cell_type": "code",
   "execution_count": null,
   "id": "geographic-seattle",
   "metadata": {},
   "outputs": [],
   "source": [
    "# code to convert SMILES string to bigraph, pull energies as labels\n",
    "# save and load graphs and energies as input (X) and labels (y)"
   ]
  },
  {
   "cell_type": "code",
   "execution_count": 1,
   "id": "boolean-highland",
   "metadata": {},
   "outputs": [
    {
     "name": "stderr",
     "output_type": "stream",
     "text": [
      "Using backend: pytorch\n"
     ]
    }
   ],
   "source": [
    "import torch\n",
    "from rdkit import Chem\n",
    "from dgllife.utils import smiles_to_bigraph\n",
    "# from dgllife.utils import mol_to_bigraph\n",
    "from dgl.data.utils import load_graphs\n",
    "from dgl.data.utils import save_graphs\n",
    "from dgl.dataloading import GraphDataLoader\n",
    "import pandas as pd\n",
    "import numpy as np\n",
    "import os"
   ]
  },
  {
   "cell_type": "code",
   "execution_count": 2,
   "id": "recovered-xerox",
   "metadata": {},
   "outputs": [],
   "source": [
    "class MyDataset():\n",
    "    def __init__(self, df:str):\n",
    "        \n",
    "        self.df = pd.read_csv(df)\n",
    "        self.name = os.path.basename(df)\n",
    "        \n",
    "        self.bigraph = [] # X\n",
    "        self.labels =  np.ndarray([]) # y \n",
    "        \n",
    "\n",
    "    def featurize_atoms(self, mol):\n",
    "    # featurize atoms\n",
    "        feats = []\n",
    "        for atom in mol.GetAtoms():\n",
    "            feats.append(atom.GetAtomicNum())\n",
    "        return {'atomic': torch.tensor(feats).reshape(-1, 1).float()}\n",
    "    \n",
    "    def featurize_bonds(self, mol):\n",
    "    # featurize bonds\n",
    "        feats = []\n",
    "        bond_types = [Chem.rdchem.BondType.SINGLE, Chem.rdchem.BondType.DOUBLE,\n",
    "                    Chem.rdchem.BondType.TRIPLE, Chem.rdchem.BondType.AROMATIC]\n",
    "        for bond in mol.GetBonds():\n",
    "            btype = bond_types.index(bond.GetBondType())\n",
    "            feats.extend([btype, btype])\n",
    "        return {'type': torch.tensor(feats).reshape(-1, 1).float()}\n",
    "    \n",
    "    def process(self):\n",
    "    # make bigraphs and labels (energy)\n",
    "        self.bigraph = list(self.df['Smiles'].apply(lambda x: smiles_to_bigraph(str(x), node_featurizer=self.featurize_atoms, edge_featurizer=self.featurize_bonds,explicit_hydrogens=True)))\n",
    "        self.labels = np.array(self.df[\"Energy\"])\n",
    "    \n",
    "    def __getitem__(self, idx):\n",
    "    # get one example by index\n",
    "        return self.graphs[idx], self.label[idx]\n",
    "\n",
    "    def __len__(self):\n",
    "    # number of graphs in dataset\n",
    "        return len(self.graphs)\n",
    "    \n",
    "    def save(self, path):\n",
    "    # save graphs and labels\n",
    "        graph_path = os.path.join(path, self.name + '_dgl_graph.bin')\n",
    "        save_graphs(graph_path, self.bigraph, {'labels': torch.tensor(self.labels)})\n",
    "        "
   ]
  },
  {
   "cell_type": "code",
   "execution_count": 3,
   "id": "charming-details",
   "metadata": {},
   "outputs": [],
   "source": [
    "m = MyDataset( '../../Data/Solubility/EnergyDataset-B-Copy1.csv') # file path to csv\n",
    "m.process()"
   ]
  },
  {
   "cell_type": "code",
   "execution_count": 4,
   "id": "studied-magnitude",
   "metadata": {},
   "outputs": [],
   "source": [
    "def load(name, path):\n",
    "    # load graphs and labels\n",
    "    graph_path = os.path.join(path, name + '_dgl_graph.bin')\n",
    "    graphs, label_dict = load_graphs(graph_path)\n",
    "    labels = label_dict['labels']\n",
    "    return graphs, labels"
   ]
  },
  {
   "cell_type": "code",
   "execution_count": 5,
   "id": "compatible-initial",
   "metadata": {},
   "outputs": [],
   "source": [
    "X, y = load(\"EnergyDataset-B-Copy1.csv\",\"./graphs/\") # name = csv file name, \"./graphs\" = folder name to store graph data"
   ]
  },
  {
   "cell_type": "code",
   "execution_count": 6,
   "id": "neither-retention",
   "metadata": {},
   "outputs": [],
   "source": [
    "# X"
   ]
  },
  {
   "cell_type": "code",
   "execution_count": 7,
   "id": "patient-picking",
   "metadata": {},
   "outputs": [],
   "source": [
    "# y"
   ]
  },
  {
   "cell_type": "code",
   "execution_count": null,
   "id": "nonprofit-cartoon",
   "metadata": {},
   "outputs": [],
   "source": []
  }
 ],
 "metadata": {
  "kernelspec": {
   "display_name": "Python 3",
   "language": "python",
   "name": "python3"
  },
  "language_info": {
   "codemirror_mode": {
    "name": "ipython",
    "version": 3
   },
   "file_extension": ".py",
   "mimetype": "text/x-python",
   "name": "python",
   "nbconvert_exporter": "python",
   "pygments_lexer": "ipython3",
   "version": "3.8.6"
  }
 },
 "nbformat": 4,
 "nbformat_minor": 5
}
