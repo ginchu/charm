{
 "cells": [
  {
   "cell_type": "markdown",
   "metadata": {},
   "source": [
    "# Homework 4: Predicting Solubility"
   ]
  },
  {
   "cell_type": "markdown",
   "metadata": {},
   "source": [
    "In this homework, your goal is to predict the solubility of a compound, and to reach to lowest possible error on the test set. To make this homework a little more interactive, you should report your score on a scoreboard: https://keepthescore.co/board/cmdaqeorufe/ <br> For this homework, you will use a library called score, which provides you with 3 functions. \n",
    "<ul>\n",
    "    <li> featurize(dataset,features): dataset should be a CSV file with at least two columns: SMILES and Solubility. features should be a list of mordred features. Returns two numpy tensors, one with the result of the feature calculation, one with the target. \n",
    "    <li> test(features,model): features should be a list of mordred features. model should be a scikit learn estimator. return the mean average error on the test set.\n",
    "    <li> report(teamname): teaname should be your team name, per the canvas group assignment. Effect: records your current score on the scoreboard.\n",
    "</ul>\n",
    "At the end of this notebook, you will find an example on how to train a model, test it, and report a score. Note that you are allowed to use my featurize function for your featurization. If you want to use 3D features, please contact me. You should use datasets A, B, C, D, F, G, H, I for your work. You are encouraged to use multiple datasets!<br>\n",
    "One final note: you will not be graded based on the scoreboard. Of course, there might be some anticorrelation between your test score and your grade, but you need not worry about the scoreboard."
   ]
  },
  {
   "cell_type": "code",
   "execution_count": 2,
   "metadata": {},
   "outputs": [],
   "source": [
    "#from score import report, featurize, test\n",
    "from score import report, featurize, test"
   ]
  },
  {
   "cell_type": "markdown",
   "metadata": {},
   "source": [
    "**Rules**:<br>\n",
    "<ul>\n",
    "    <li> It is forbidden to modify the score library;\n",
    "    <li> It is forbidden to import any other function from the score library;\n",
    "    <li> It is forbidden to use dataset E;\n",
    "    <li> It is forbidden to use any dataset other than A, B, C, D, F, G, H, I;\n",
    "    <li> It is forbidden to use features others than the ones computed from mordred;\n",
    "    <li> You can use any number of features, however, at the end, you will need to provide a brief (and vague) explanation of what your features are doing.\n",
    "    <li> You can use anything you want for modeling, including all the tools available in pytorch, and you can even use other machine libraries if you wish;\n",
    "    <li> It is forbidden to modify the scoreboard page (be careful, you all have admin access to it).\n",
    "</ul>\n",
    "It is very easy to cheat and rely on your integrity to participate in good faith. If you are caught cheating, you will get 0 for the assignment. "
   ]
  },
  {
   "cell_type": "markdown",
   "metadata": {},
   "source": [
    "## Example"
   ]
  },
  {
   "cell_type": "code",
   "execution_count": 3,
   "metadata": {},
   "outputs": [],
   "source": [
    "import numpy as np\n",
    "import pandas as pd\n",
    "import mordred.AtomCount"
   ]
  },
  {
   "cell_type": "code",
   "execution_count": 4,
   "metadata": {},
   "outputs": [],
   "source": [
    "features = [mordred.AtomCount.AtomCount(\"X\"), mordred.AtomCount.AtomCount(\"HeavyAtom\")]"
   ]
  },
  {
   "cell_type": "code",
   "execution_count": 5,
   "metadata": {},
   "outputs": [
    {
     "name": "stderr",
     "output_type": "stream",
     "text": [
      "100%|██████████| 1210/1210 [00:03<00:00, 340.32it/s]\n"
     ]
    }
   ],
   "source": [
    "X_train, y_train = featurize('../../Data/Solubility/dataset-F.csv',features)"
   ]
  },
  {
   "cell_type": "code",
   "execution_count": 6,
   "metadata": {},
   "outputs": [],
   "source": [
    "from sklearn.linear_model import LinearRegression"
   ]
  },
  {
   "cell_type": "code",
   "execution_count": 7,
   "metadata": {},
   "outputs": [],
   "source": [
    "model = LinearRegression()"
   ]
  },
  {
   "cell_type": "code",
   "execution_count": 8,
   "metadata": {},
   "outputs": [
    {
     "data": {
      "text/plain": [
       "LinearRegression()"
      ]
     },
     "execution_count": 8,
     "metadata": {},
     "output_type": "execute_result"
    }
   ],
   "source": [
    "model.fit(X_train,y_train)"
   ]
  },
  {
   "cell_type": "code",
   "execution_count": 9,
   "metadata": {},
   "outputs": [
    {
     "name": "stderr",
     "output_type": "stream",
     "text": [
      "100%|██████████| 1291/1291 [00:02<00:00, 491.51it/s]\n"
     ]
    },
    {
     "data": {
      "text/plain": [
       "1.1686300929090718"
      ]
     },
     "execution_count": 9,
     "metadata": {},
     "output_type": "execute_result"
    }
   ],
   "source": [
    "test(features,model)"
   ]
  },
  {
   "cell_type": "code",
   "execution_count": 10,
   "metadata": {},
   "outputs": [
    {
     "ename": "UnboundLocalError",
     "evalue": "local variable 'diff' referenced before assignment",
     "output_type": "error",
     "traceback": [
      "\u001b[0;31m---------------------------------------------------------------------------\u001b[0m",
      "\u001b[0;31mUnboundLocalError\u001b[0m                         Traceback (most recent call last)",
      "\u001b[0;32m<ipython-input-10-98b03d7fcccb>\u001b[0m in \u001b[0;36m<module>\u001b[0;34m\u001b[0m\n\u001b[0;32m----> 1\u001b[0;31m \u001b[0mreport\u001b[0m\u001b[0;34m(\u001b[0m\u001b[0;34m'Test'\u001b[0m\u001b[0;34m)\u001b[0m\u001b[0;34m\u001b[0m\u001b[0;34m\u001b[0m\u001b[0m\n\u001b[0m",
      "\u001b[0;32m~/MLQC_HW/Homework/hw4/score.py\u001b[0m in \u001b[0;36mreport\u001b[0;34m(teamname)\u001b[0m\n\u001b[1;32m     58\u001b[0m             \u001b[0;32mbreak\u001b[0m\u001b[0;34m\u001b[0m\u001b[0;34m\u001b[0m\u001b[0m\n\u001b[1;32m     59\u001b[0m     \u001b[0mdone\u001b[0m \u001b[0;34m=\u001b[0m \u001b[0;32mFalse\u001b[0m\u001b[0;34m\u001b[0m\u001b[0;34m\u001b[0m\u001b[0m\n\u001b[0;32m---> 60\u001b[0;31m     \u001b[0;32mif\u001b[0m \u001b[0;34m(\u001b[0m\u001b[0mdiff\u001b[0m \u001b[0;34m<\u001b[0m \u001b[0;36m0\u001b[0m\u001b[0;34m)\u001b[0m\u001b[0;34m:\u001b[0m\u001b[0;34m\u001b[0m\u001b[0;34m\u001b[0m\u001b[0m\n\u001b[0m\u001b[1;32m     61\u001b[0m         \u001b[0mcommit\u001b[0m\u001b[0;34m(\u001b[0m\u001b[0mdiff\u001b[0m\u001b[0;34m,\u001b[0m\u001b[0mteamname\u001b[0m\u001b[0;34m)\u001b[0m\u001b[0;34m\u001b[0m\u001b[0;34m\u001b[0m\u001b[0m\n\u001b[1;32m     62\u001b[0m     \u001b[0;32melse\u001b[0m\u001b[0;34m:\u001b[0m\u001b[0;34m\u001b[0m\u001b[0;34m\u001b[0m\u001b[0m\n",
      "\u001b[0;31mUnboundLocalError\u001b[0m: local variable 'diff' referenced before assignment"
     ]
    }
   ],
   "source": [
    "report('Test')"
   ]
  },
  {
   "cell_type": "markdown",
   "metadata": {},
   "source": [
    "## Your turn"
   ]
  },
  {
   "cell_type": "code",
   "execution_count": 97,
   "metadata": {},
   "outputs": [],
   "source": [
    "from sklearn.linear_model import Ridge\n",
    "from sklearn.preprocessing import StandardScaler\n",
    "from sklearn.decomposition import PCA\n",
    "from sklearn.model_selection import GridSearchCV\n",
    "from sklearn.preprocessing import PolynomialFeatures as PF\n",
    "from sklearn.pipeline import Pipeline\n",
    "from sklearn.metrics import mean_absolute_error\n",
    "from sklearn.svm import SVR\n",
    "import mordred\n",
    "from mordred import Calculator, descriptors"
   ]
  },
  {
   "cell_type": "code",
   "execution_count": 98,
   "metadata": {},
   "outputs": [],
   "source": [
    "# concatenate datasets B,C,D,F,G,H"
   ]
  },
  {
   "cell_type": "code",
   "execution_count": 99,
   "metadata": {},
   "outputs": [],
   "source": [
    "def concatenate():\n",
    "    data_name = ['B', 'C', 'D', 'F', 'G', 'H']\n",
    "    df_list = []\n",
    "    \n",
    "    #load data\n",
    "    for name in data_name: \n",
    "        df_list.append(pd.read_csv('../../Data/Solubility/dataset-'+ name +'.csv'))\n",
    "        \n",
    "    #concatenate all datasets\n",
    "    training_data =  pd.concat(df_list, axis=0, ignore_index=True)\n",
    "    training_data.to_csv('../../Data/Solubility/dataset-HW4.csv')"
   ]
  },
  {
   "cell_type": "code",
   "execution_count": 100,
   "metadata": {},
   "outputs": [],
   "source": [
    "concatenate()"
   ]
  },
  {
   "cell_type": "code",
   "execution_count": 128,
   "metadata": {},
   "outputs": [],
   "source": [
    "# list of mordred features\n",
    "features=  [mordred.Weight.Weight(exact=True, averaged=False),mordred.Autocorrelation.ATS(3, 'dv'), mordred.Aromatic.AromaticAtomsCount, mordred.ABCIndex.ABCIndex, mordred.WienerIndex.WienerIndex(polarity=True), mordred.TopologicalIndex.Diameter, mordred.HydrogenBond.HBondAcceptor, mordred.HydrogenBond.HBondDonor, mordred.AtomCount.AtomCount(\"C\"), mordred.AtomCount.AtomCount(\"O\"), mordred.AtomCount.AtomCount(\"N\"), mordred.RotatableBond.RotatableBondsCount, mordred.RingCount.RingCount, mordred.Polarizability.APol,mordred.Polarizability.BPol, mordred.SLogP, mordred.TopoPSA.TopoPSA(True)\n",
    "         ]"
   ]
  },
  {
   "cell_type": "code",
   "execution_count": 129,
   "metadata": {},
   "outputs": [
    {
     "name": "stderr",
     "output_type": "stream",
     "text": [
      "RDKit WARNING: [23:33:11] WARNING: not removing hydrogen atom without neighbors\n",
      "RDKit WARNING: [23:33:11] WARNING: not removing hydrogen atom without neighbors\n",
      "RDKit WARNING: [23:33:11] WARNING: not removing hydrogen atom without neighbors\n",
      "RDKit WARNING: [23:33:11] WARNING: not removing hydrogen atom without neighbors\n",
      "RDKit WARNING: [23:33:11] WARNING: not removing hydrogen atom without neighbors\n",
      "RDKit WARNING: [23:33:11] WARNING: not removing hydrogen atom without neighbors\n",
      "RDKit WARNING: [23:33:11] WARNING: not removing hydrogen atom without neighbors\n",
      "RDKit WARNING: [23:33:11] WARNING: not removing hydrogen atom without neighbors\n",
      "RDKit WARNING: [23:33:11] WARNING: not removing hydrogen atom without neighbors\n",
      "RDKit WARNING: [23:33:11] WARNING: not removing hydrogen atom without neighbors\n",
      "RDKit WARNING: [23:33:11] WARNING: not removing hydrogen atom without neighbors\n",
      "RDKit WARNING: [23:33:11] WARNING: not removing hydrogen atom without neighbors\n",
      "  0%|          | 0/12300 [00:00<?, ?it/s]RDKit WARNING: [23:33:13] WARNING: not removing hydrogen atom without neighbors\n",
      "RDKit WARNING: [23:33:13] WARNING: not removing hydrogen atom without neighbors\n",
      "  0%|          | 39/12300 [00:00<01:05, 185.83it/s]RDKit WARNING: [23:33:13] WARNING: not removing hydrogen atom without neighbors\n",
      "RDKit WARNING: [23:33:13] WARNING: not removing hydrogen atom without neighbors\n",
      "  1%|          | 92/12300 [00:00<00:52, 233.69it/s]RDKit WARNING: [23:33:13] WARNING: not removing hydrogen atom without neighbors\n",
      "RDKit WARNING: [23:33:13] WARNING: not removing hydrogen atom without neighbors\n",
      "  6%|▌         | 754/12300 [00:03<00:39, 289.68it/s]RDKit WARNING: [23:33:16] WARNING: not removing hydrogen atom without neighbors\n",
      "RDKit WARNING: [23:33:16] WARNING: not removing hydrogen atom without neighbors\n",
      "  6%|▋         | 784/12300 [00:03<00:40, 281.81it/s]RDKit WARNING: [23:33:16] WARNING: not removing hydrogen atom without neighbors\n",
      "RDKit WARNING: [23:33:16] WARNING: not removing hydrogen atom without neighbors\n",
      "RDKit WARNING: [23:33:16] WARNING: not removing hydrogen atom without neighbors\n",
      "RDKit WARNING: [23:33:16] WARNING: not removing hydrogen atom without neighbors\n",
      "  9%|▊         | 1050/12300 [00:04<00:45, 247.52it/s]RDKit WARNING: [23:33:17] WARNING: not removing hydrogen atom without neighbors\n",
      "RDKit WARNING: [23:33:17] WARNING: not removing hydrogen atom without neighbors\n",
      " 14%|█▎        | 1684/12300 [00:06<00:39, 266.11it/s]RDKit WARNING: [23:33:19] WARNING: not removing hydrogen atom without neighbors\n",
      "RDKit WARNING: [23:33:19] WARNING: not removing hydrogen atom without neighbors\n",
      " 18%|█▊        | 2275/12300 [00:08<00:42, 237.34it/s]RDKit WARNING: [23:33:22] WARNING: not removing hydrogen atom without neighbors\n",
      "RDKit WARNING: [23:33:22] WARNING: not removing hydrogen atom without neighbors\n",
      " 21%|██        | 2585/12300 [00:10<00:35, 273.69it/s]RDKit WARNING: [23:33:23] WARNING: not removing hydrogen atom without neighbors\n",
      "RDKit WARNING: [23:33:23] WARNING: not removing hydrogen atom without neighbors\n",
      " 25%|██▌       | 3124/12300 [00:12<00:32, 286.66it/s]RDKit WARNING: [23:33:25] WARNING: not removing hydrogen atom without neighbors\n",
      "RDKit WARNING: [23:33:25] WARNING: not removing hydrogen atom without neighbors\n",
      "RDKit WARNING: [23:33:25] WARNING: not removing hydrogen atom without neighbors\n",
      "RDKit WARNING: [23:33:25] WARNING: not removing hydrogen atom without neighbors\n",
      "100%|██████████| 12300/12300 [00:45<00:00, 271.48it/s]\n"
     ]
    }
   ],
   "source": [
    "# load X_train and y_train\n",
    "X_train, y_train = featurize('../../Data/Solubility/dataset-HW4.csv',features)"
   ]
  },
  {
   "cell_type": "code",
   "execution_count": 130,
   "metadata": {},
   "outputs": [],
   "source": [
    "from sklearn.ensemble import RandomForestRegressor\n",
    "model = RandomForestRegressor(random_state = 0, n_estimators=100)"
   ]
  },
  {
   "cell_type": "code",
   "execution_count": 134,
   "metadata": {},
   "outputs": [
    {
     "data": {
      "text/plain": [
       "RandomForestRegressor(random_state=0)"
      ]
     },
     "execution_count": 134,
     "metadata": {},
     "output_type": "execute_result"
    }
   ],
   "source": [
    "model.fit(X_train,y_train)"
   ]
  },
  {
   "cell_type": "code",
   "execution_count": null,
   "metadata": {},
   "outputs": [
    {
     "name": "stderr",
     "output_type": "stream",
     "text": [
      " 22%|██▏       | 284/1291 [00:01<00:04, 250.28it/s]"
     ]
    }
   ],
   "source": [
    "test(features,model)"
   ]
  },
  {
   "cell_type": "code",
   "execution_count": null,
   "metadata": {},
   "outputs": [],
   "source": [
    "report('Charm')"
   ]
  },
  {
   "cell_type": "code",
   "execution_count": null,
   "metadata": {},
   "outputs": [],
   "source": []
  }
 ],
 "metadata": {
  "kernelspec": {
   "display_name": "Python 3",
   "language": "python",
   "name": "python3"
  },
  "language_info": {
   "codemirror_mode": {
    "name": "ipython",
    "version": 3
   },
   "file_extension": ".py",
   "mimetype": "text/x-python",
   "name": "python",
   "nbconvert_exporter": "python",
   "pygments_lexer": "ipython3",
   "version": "3.8.6"
  }
 },
 "nbformat": 4,
 "nbformat_minor": 4
}
