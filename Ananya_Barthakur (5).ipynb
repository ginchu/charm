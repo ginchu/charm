{
 "cells": [
  {
   "cell_type": "markdown",
   "metadata": {},
   "source": [
    "# Homework 4: Predicting Solubility"
   ]
  },
  {
   "cell_type": "markdown",
   "metadata": {},
   "source": [
    "In this homework, your goal is to predict the solubility of a compound, and to reach to lowest possible error on the test set. To make this homework a little more interactive, you should report your score on a scoreboard: https://keepthescore.co/board/cmdaqeorufe/ <br> For this homework, you will use a library called score, which provides you with 3 functions. \n",
    "<ul>\n",
    "    <li> featurize(dataset,features): dataset should be a CSV file with at least two columns: SMILES and Solubility. features should be a list of mordred features. Returns two numpy tensors, one with the result of the feature calculation, one with the target. \n",
    "    <li> test(features,model): features should be a list of mordred features. model should be a scikit learn estimator. return the mean average error on the test set.\n",
    "    <li> report(teamname): teaname should be your team name, per the canvas group assignment. Effect: records your current score on the scoreboard.\n",
    "</ul>\n",
    "At the end of this notebook, you will find an example on how to train a model, test it, and report a score. Note that you are allowed to use my featurize function for your featurization. If you want to use 3D features, please contact me. You should use datasets A, B, C, D, F, G, H, I for your work. You are encouraged to use multiple datasets!<br>\n",
    "One final note: you will not be graded based on the scoreboard. Of course, there might be some anticorrelation between your test score and your grade, but you need not worry about the scoreboard."
   ]
  },
  {
   "cell_type": "code",
   "execution_count": 23,
   "metadata": {},
   "outputs": [],
   "source": [
    "#from score import report, featurize, test\n",
    "from score import report, featurize, test"
   ]
  },
  {
   "cell_type": "markdown",
   "metadata": {},
   "source": [
    "**Rules**:<br>\n",
    "<ul>\n",
    "    <li> It is forbidden to modify the score library;\n",
    "    <li> It is forbidden to import any other function from the score library;\n",
    "    <li> It is forbidden to use dataset E;\n",
    "    <li> It is forbidden to use any dataset other than A, B, C, D, F, G, H, I;\n",
    "    <li> It is forbidden to use features others than the ones computed from mordred;\n",
    "    <li> You can use any number of features, however, at the end, you will need to provide a brief (and vague) explanation of what your features are doing.\n",
    "    <li> You can use anything you want for modeling, including all the tools available in pytorch, and you can even use other machine libraries if you wish;\n",
    "    <li> It is forbidden to modify the scoreboard page (be careful, you all have admin access to it).\n",
    "</ul>\n",
    "It is very easy to cheat and rely on your integrity to participate in good faith. If you are caught cheating, you will get 0 for the assignment. "
   ]
  },
  {
   "cell_type": "markdown",
   "metadata": {},
   "source": [
    "## Example"
   ]
  },
  {
   "cell_type": "code",
   "execution_count": 24,
   "metadata": {},
   "outputs": [],
   "source": [
    "import numpy as np\n",
    "import pandas as pd\n",
    "import mordred.AtomCount"
   ]
  },
  {
   "cell_type": "code",
   "execution_count": 102,
   "metadata": {},
   "outputs": [],
   "source": [
    "features = [mordred.AtomCount.AtomCount(\"X\"), mordred.AtomCount.AtomCount(\"HeavyAtom\")]"
   ]
  },
  {
   "cell_type": "code",
   "execution_count": 103,
   "metadata": {},
   "outputs": [
    {
     "name": "stderr",
     "output_type": "stream",
     "text": [
      "100%|██████████| 1210/1210 [00:02<00:00, 451.27it/s]\n"
     ]
    }
   ],
   "source": [
    "X_train, y_train = featurize('../../Data/Solubility/dataset-F.csv',features)"
   ]
  },
  {
   "cell_type": "code",
   "execution_count": 104,
   "metadata": {},
   "outputs": [],
   "source": [
    "from sklearn.linear_model import LinearRegression"
   ]
  },
  {
   "cell_type": "code",
   "execution_count": 115,
   "metadata": {},
   "outputs": [],
   "source": [
    "model = LinearRegression()"
   ]
  },
  {
   "cell_type": "code",
   "execution_count": 116,
   "metadata": {},
   "outputs": [
    {
     "data": {
      "text/plain": [
       "LinearRegression()"
      ]
     },
     "execution_count": 116,
     "metadata": {},
     "output_type": "execute_result"
    }
   ],
   "source": [
    "model.fit(X_train,y_train)"
   ]
  },
  {
   "cell_type": "code",
   "execution_count": 117,
   "metadata": {},
   "outputs": [
    {
     "name": "stderr",
     "output_type": "stream",
     "text": [
      "100%|██████████| 1291/1291 [00:03<00:00, 405.18it/s]\n"
     ]
    },
    {
     "data": {
      "text/plain": [
       "0.711502668545131"
      ]
     },
     "execution_count": 117,
     "metadata": {},
     "output_type": "execute_result"
    }
   ],
   "source": [
    "test(features,model)"
   ]
  },
  {
   "cell_type": "code",
   "execution_count": 108,
   "metadata": {},
   "outputs": [
    {
     "name": "stdout",
     "output_type": "stream",
     "text": [
      "Your score is worse than your previous best score, it will not be reported.\n"
     ]
    }
   ],
   "source": [
    "report('Test')"
   ]
  },
  {
   "cell_type": "markdown",
   "metadata": {},
   "source": [
    "## Your turn"
   ]
  },
  {
   "cell_type": "code",
   "execution_count": 25,
   "metadata": {},
   "outputs": [],
   "source": [
    "from sklearn.linear_model import Ridge\n",
    "from sklearn.preprocessing import StandardScaler\n",
    "from sklearn.decomposition import PCA\n",
    "from sklearn.model_selection import GridSearchCV\n",
    "from sklearn.preprocessing import PolynomialFeatures as PF\n",
    "from sklearn.pipeline import Pipeline\n",
    "from sklearn.metrics import mean_absolute_error\n",
    "from sklearn.svm import SVR\n",
    "import mordred\n",
    "from mordred import Calculator, descriptors"
   ]
  },
  {
   "cell_type": "code",
   "execution_count": 26,
   "metadata": {},
   "outputs": [],
   "source": [
    "# concatenate datasets B,C,D,F,G,H"
   ]
  },
  {
   "cell_type": "code",
   "execution_count": 27,
   "metadata": {},
   "outputs": [],
   "source": [
    "def concatenate():\n",
    "    data_name = ['B', 'C', 'D', 'F', 'G', 'H']\n",
    "    df_list = []\n",
    "    \n",
    "    #load data\n",
    "    for name in data_name: \n",
    "        df_list.append(pd.read_csv('../../Data/Solubility/dataset-'+ name +'.csv'))\n",
    "        \n",
    "    #concatenate all datasets\n",
    "    training_data =  pd.concat(df_list, axis=0, ignore_index=True)\n",
    "    training_data.to_csv('../../Data/Solubility/dataset-HW4.csv')"
   ]
  },
  {
   "cell_type": "code",
   "execution_count": 28,
   "metadata": {},
   "outputs": [],
   "source": [
    "concatenate()"
   ]
  },
  {
   "cell_type": "code",
   "execution_count": 29,
   "metadata": {},
   "outputs": [],
   "source": [
    "# list of mordred features\n",
    "features= [mordred.HydrogenBond.HBondAcceptor, mordred.HydrogenBond.HBondDonor, mordred.RingCount.RingCount, mordred.Polarizability.APol,mordred.Polarizability.BPol, mordred.SLogP, mordred.TopoPSA.TopoPSA(True)\n",
    "         ]"
   ]
  },
  {
   "cell_type": "code",
   "execution_count": 30,
   "metadata": {},
   "outputs": [
    {
     "name": "stderr",
     "output_type": "stream",
     "text": [
      "RDKit WARNING: [22:42:19] WARNING: not removing hydrogen atom without neighbors\n",
      "RDKit WARNING: [22:42:19] WARNING: not removing hydrogen atom without neighbors\n",
      "RDKit WARNING: [22:42:19] WARNING: not removing hydrogen atom without neighbors\n",
      "RDKit WARNING: [22:42:19] WARNING: not removing hydrogen atom without neighbors\n",
      "RDKit WARNING: [22:42:19] WARNING: not removing hydrogen atom without neighbors\n",
      "RDKit WARNING: [22:42:19] WARNING: not removing hydrogen atom without neighbors\n",
      "RDKit WARNING: [22:42:20] WARNING: not removing hydrogen atom without neighbors\n",
      "RDKit WARNING: [22:42:20] WARNING: not removing hydrogen atom without neighbors\n",
      "RDKit WARNING: [22:42:20] WARNING: not removing hydrogen atom without neighbors\n",
      "RDKit WARNING: [22:42:20] WARNING: not removing hydrogen atom without neighbors\n",
      "RDKit WARNING: [22:42:20] WARNING: not removing hydrogen atom without neighbors\n",
      "RDKit WARNING: [22:42:20] WARNING: not removing hydrogen atom without neighbors\n",
      "  0%|          | 0/12300 [00:00<?, ?it/s]RDKit WARNING: [22:42:21] WARNING: not removing hydrogen atom without neighbors\n",
      "RDKit WARNING: [22:42:21] WARNING: not removing hydrogen atom without neighbors\n",
      "  0%|          | 28/12300 [00:00<00:46, 266.31it/s]RDKit WARNING: [22:42:21] WARNING: not removing hydrogen atom without neighbors\n",
      "RDKit WARNING: [22:42:21] WARNING: not removing hydrogen atom without neighbors\n",
      "  1%|          | 73/12300 [00:00<00:32, 370.81it/s]RDKit WARNING: [22:42:21] WARNING: not removing hydrogen atom without neighbors\n",
      "RDKit WARNING: [22:42:21] WARNING: not removing hydrogen atom without neighbors\n",
      "  6%|▌         | 751/12300 [00:01<00:28, 412.30it/s]RDKit WARNING: [22:42:23] WARNING: not removing hydrogen atom without neighbors\n",
      "RDKit WARNING: [22:42:23] WARNING: not removing hydrogen atom without neighbors\n",
      "  6%|▋         | 793/12300 [00:01<00:27, 412.94it/s]RDKit WARNING: [22:42:23] WARNING: not removing hydrogen atom without neighbors\n",
      "RDKit WARNING: [22:42:23] WARNING: not removing hydrogen atom without neighbors\n",
      "RDKit WARNING: [22:42:23] WARNING: not removing hydrogen atom without neighbors\n",
      "RDKit WARNING: [22:42:23] WARNING: not removing hydrogen atom without neighbors\n",
      "  9%|▊         | 1046/12300 [00:02<00:27, 411.58it/s]RDKit WARNING: [22:42:24] WARNING: not removing hydrogen atom without neighbors\n",
      "RDKit WARNING: [22:42:24] WARNING: not removing hydrogen atom without neighbors\n",
      " 14%|█▍        | 1701/12300 [00:03<00:24, 437.87it/s]RDKit WARNING: [22:42:25] WARNING: not removing hydrogen atom without neighbors\n",
      "RDKit WARNING: [22:42:25] WARNING: not removing hydrogen atom without neighbors\n",
      " 18%|█▊        | 2256/12300 [00:05<00:23, 434.28it/s]RDKit WARNING: [22:42:26] WARNING: not removing hydrogen atom without neighbors\n",
      "RDKit WARNING: [22:42:26] WARNING: not removing hydrogen atom without neighbors\n",
      " 21%|██        | 2590/12300 [00:05<00:21, 451.38it/s]RDKit WARNING: [22:42:27] WARNING: not removing hydrogen atom without neighbors\n",
      "RDKit WARNING: [22:42:27] WARNING: not removing hydrogen atom without neighbors\n",
      " 25%|██▌       | 3123/12300 [00:07<00:22, 404.85it/s]RDKit WARNING: [22:42:28] WARNING: not removing hydrogen atom without neighbors\n",
      "RDKit WARNING: [22:42:28] WARNING: not removing hydrogen atom without neighbors\n",
      "RDKit WARNING: [22:42:28] WARNING: not removing hydrogen atom without neighbors\n",
      "RDKit WARNING: [22:42:28] WARNING: not removing hydrogen atom without neighbors\n",
      "100%|██████████| 12300/12300 [00:28<00:00, 430.63it/s]\n"
     ]
    }
   ],
   "source": [
    "# load X_train and y_train\n",
    "X_train, y_train = featurize('../../Data/Solubility/dataset-HW4.csv',features)"
   ]
  },
  {
   "cell_type": "code",
   "execution_count": 31,
   "metadata": {},
   "outputs": [],
   "source": [
    "from sklearn.ensemble import RandomForestRegressor\n",
    "model = RandomForestRegressor(random_state = 0, n_estimators=100)"
   ]
  },
  {
   "cell_type": "code",
   "execution_count": 32,
   "metadata": {},
   "outputs": [
    {
     "data": {
      "text/plain": [
       "RandomForestRegressor(random_state=0)"
      ]
     },
     "execution_count": 32,
     "metadata": {},
     "output_type": "execute_result"
    }
   ],
   "source": [
    "model.fit(X_train,y_train)"
   ]
  },
  {
   "cell_type": "code",
   "execution_count": 33,
   "metadata": {},
   "outputs": [
    {
     "name": "stderr",
     "output_type": "stream",
     "text": [
      "100%|██████████| 1291/1291 [00:03<00:00, 409.00it/s]\n"
     ]
    },
    {
     "data": {
      "text/plain": [
       "0.17453259164424118"
      ]
     },
     "execution_count": 33,
     "metadata": {},
     "output_type": "execute_result"
    }
   ],
   "source": [
    "test(features,model)"
   ]
  },
  {
   "cell_type": "code",
   "execution_count": 34,
   "metadata": {},
   "outputs": [],
   "source": [
    "from sklearn.model_selection import cross_val_score\n",
    "from sklearn.model_selection import validation_curve\n",
    "from sklearn.metrics import make_scorer\n",
    "from sklearn.metrics import mean_absolute_error"
   ]
  },
  {
   "cell_type": "code",
   "execution_count": 35,
   "metadata": {},
   "outputs": [],
   "source": [
    "degrees = [1,2,3]"
   ]
  },
  {
   "cell_type": "code",
   "execution_count": 36,
   "metadata": {},
   "outputs": [],
   "source": [
    "pipe = Pipeline([('pf',PF()),('rf', RandomForestRegressor())])"
   ]
  },
  {
   "cell_type": "code",
   "execution_count": null,
   "metadata": {},
   "outputs": [
    {
     "name": "stderr",
     "output_type": "stream",
     "text": [
      "/opt/conda/lib/python3.8/site-packages/sklearn/utils/validation.py:70: FutureWarning: Pass param_name=pf__degree, param_range=[1, 2, 3] as keyword args. From version 1.0 (renaming of 0.25) passing these as positional arguments will result in an error\n",
      "  warnings.warn(f\"Pass {args_msg} as keyword args. From version \"\n"
     ]
    }
   ],
   "source": [
    "v_train_scores, v_valid_scores = validation_curve(pipe, X_train, y_train, \"pf__degree\", degrees,scoring = make_scorer(mean_absolute_error))"
   ]
  },
  {
   "cell_type": "code",
   "execution_count": null,
   "metadata": {},
   "outputs": [],
   "source": [
    "import time\n",
    "def plot():\n",
    "    start = time.time()\n",
    "    print ('starting..')\n",
    "    plt.grid()\n",
    "    plt.xlabel('Polynomial degree')\n",
    "    plt.ylabel('Mean average error')\n",
    "    plt.xticks(degrees)\n",
    "    plt.plot(degrees,v_train_scores.mean(axis=1),label='train')\n",
    "    plt.plot(degrees,v_valid_scores.mean(axis=1),label='valid')\n",
    "    plt.show()\n",
    "    print ('time taken:', time.time() - start)\n"
   ]
  },
  {
   "cell_type": "code",
   "execution_count": null,
   "metadata": {},
   "outputs": [],
   "source": [
    "plot()"
   ]
  },
  {
   "cell_type": "code",
   "execution_count": null,
   "metadata": {},
   "outputs": [],
   "source": []
  }
 ],
 "metadata": {
  "kernelspec": {
   "display_name": "Python 3",
   "language": "python",
   "name": "python3"
  },
  "language_info": {
   "codemirror_mode": {
    "name": "ipython",
    "version": 3
   },
   "file_extension": ".py",
   "mimetype": "text/x-python",
   "name": "python",
   "nbconvert_exporter": "python",
   "pygments_lexer": "ipython3",
   "version": "3.8.6"
  }
 },
 "nbformat": 4,
 "nbformat_minor": 4
}
