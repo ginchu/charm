{
 "cells": [
  {
   "cell_type": "code",
   "execution_count": 54,
   "id": "juvenile-defeat",
   "metadata": {},
   "outputs": [],
   "source": [
    "import pandas as pd\n",
    "import seaborn as sns\n",
    "import matplotlib.pyplot as plt\n",
    "from rdkit import Chem\n",
    "import numpy as np\n",
    "from rdkit.Chem import AllChem\n",
    "import mordred\n",
    "from mordred import Calculator, descriptors\n",
    "from sklearn.model_selection import train_test_split\n",
    "from sklearn.linear_model import LinearRegression"
   ]
  },
  {
   "cell_type": "code",
   "execution_count": 16,
   "id": "facial-helmet",
   "metadata": {},
   "outputs": [],
   "source": [
    "def smiles_to_mol(smiles):\n",
    "    return Chem.MolFromSmiles(smiles)"
   ]
  },
  {
   "cell_type": "code",
   "execution_count": 49,
   "id": "checked-trust",
   "metadata": {},
   "outputs": [],
   "source": [
    "def register(features):\n",
    "    calc1 = mordred.Calculator()\n",
    "    calc1.register(features)\n",
    "    return calc1"
   ]
  },
  {
   "cell_type": "code",
   "execution_count": 50,
   "id": "metropolitan-nursing",
   "metadata": {},
   "outputs": [],
   "source": [
    "features = [mordred.BondCount.BondCount(\"single\", False), mordred.BondCount.BondCount(\"double\", False), mordred.BondCount.BondCount(\"triple\", False)]"
   ]
  },
  {
   "cell_type": "code",
   "execution_count": 51,
   "id": "corrected-mouth",
   "metadata": {},
   "outputs": [],
   "source": [
    "def featurize(dataset,features):\n",
    "    df = pd.read_csv(dataset)\n",
    "    y_test = np.array(df['Change-Energy'])\n",
    "    calc = mordred.Calculator()\n",
    "    calc.register(features)\n",
    "    df = df['Smiles'].apply(smiles_to_mol)\n",
    "    X_test = np.array(calc.pandas(df))\n",
    "    return X_test, y_test"
   ]
  },
  {
   "cell_type": "code",
   "execution_count": 52,
   "id": "macro-dominican",
   "metadata": {},
   "outputs": [],
   "source": [
    "#data = pd.read_csv('../../Data/Energy/ChangeDataset-H.csv')"
   ]
  },
  {
   "cell_type": "code",
   "execution_count": 154,
   "id": "specialized-cleaner",
   "metadata": {},
   "outputs": [
    {
     "name": "stderr",
     "output_type": "stream",
     "text": [
      "100%|██████████| 578/578 [00:06<00:00, 88.67it/s] \n"
     ]
    }
   ],
   "source": [
    "X, y = featurize('../../Data/Energy/ChangeDataset-H.csv',features)"
   ]
  },
  {
   "cell_type": "code",
   "execution_count": 117,
   "id": "emotional-lebanon",
   "metadata": {},
   "outputs": [],
   "source": [
    "#X_train = X[:50] used first 50 molecules of B to train ONLY.\n",
    "#y_train = y[:50]\n",
    "#X_test = X[50:]\n",
    "#y_test = y[50:]"
   ]
  },
  {
   "cell_type": "code",
   "execution_count": 118,
   "id": "associate-camera",
   "metadata": {},
   "outputs": [
    {
     "data": {
      "text/plain": [
       "LinearRegression()"
      ]
     },
     "execution_count": 118,
     "metadata": {},
     "output_type": "execute_result"
    }
   ],
   "source": [
    "#model = LinearRegression()\n",
    "#model.fit(X_train,y_train)\n",
    "# only to train on B"
   ]
  },
  {
   "cell_type": "code",
   "execution_count": 155,
   "id": "danish-absorption",
   "metadata": {},
   "outputs": [],
   "source": [
    "pred = model.predict(X) #test entire sets of C,D,H"
   ]
  },
  {
   "cell_type": "code",
   "execution_count": 156,
   "id": "demanding-christian",
   "metadata": {},
   "outputs": [
    {
     "data": {
      "text/plain": [
       "578"
      ]
     },
     "execution_count": 156,
     "metadata": {},
     "output_type": "execute_result"
    }
   ],
   "source": [
    "len(pred)"
   ]
  },
  {
   "cell_type": "code",
   "execution_count": 157,
   "id": "czech-malaysia",
   "metadata": {},
   "outputs": [],
   "source": [
    "differences = []\n",
    "differences = y - pred"
   ]
  },
  {
   "cell_type": "code",
   "execution_count": 158,
   "id": "arabic-night",
   "metadata": {},
   "outputs": [
    {
     "data": {
      "text/plain": [
       "578"
      ]
     },
     "execution_count": 158,
     "metadata": {},
     "output_type": "execute_result"
    }
   ],
   "source": [
    "len(differences)"
   ]
  },
  {
   "cell_type": "code",
   "execution_count": 159,
   "id": "signed-bankruptcy",
   "metadata": {},
   "outputs": [
    {
     "name": "stdout",
     "output_type": "stream",
     "text": [
      "578\n"
     ]
    }
   ],
   "source": [
    "dataset = pd.read_csv('../../Data/Energy/ChangeDataset-H.csv') ### only to get smiles for next shell\n",
    "\n",
    "smiles = dataset.columns[1]\n",
    "smiles_list = np.array(dataset[smiles])\n",
    "print(len(smiles_list))"
   ]
  },
  {
   "cell_type": "code",
   "execution_count": 160,
   "id": "immune-internship",
   "metadata": {},
   "outputs": [
    {
     "name": "stdout",
     "output_type": "stream",
     "text": [
      "shape:  (578, 2)\n"
     ]
    }
   ],
   "source": [
    "# convert to dataframe\n",
    "descriptor_data = { 'Smiles': smiles_list, 'CorrectionEnergy': differences}\n",
    "df = pd.DataFrame(data = descriptor_data)\n",
    "df.to_csv('../../Data/Energy/CorrectionDataset-H.csv')\n",
    "print ('shape: ', df.shape)"
   ]
  },
  {
   "cell_type": "code",
   "execution_count": null,
   "id": "recreational-information",
   "metadata": {},
   "outputs": [],
   "source": []
  }
 ],
 "metadata": {
  "kernelspec": {
   "display_name": "Python 3",
   "language": "python",
   "name": "python3"
  },
  "language_info": {
   "codemirror_mode": {
    "name": "ipython",
    "version": 3
   },
   "file_extension": ".py",
   "mimetype": "text/x-python",
   "name": "python",
   "nbconvert_exporter": "python",
   "pygments_lexer": "ipython3",
   "version": "3.8.6"
  }
 },
 "nbformat": 4,
 "nbformat_minor": 5
}
